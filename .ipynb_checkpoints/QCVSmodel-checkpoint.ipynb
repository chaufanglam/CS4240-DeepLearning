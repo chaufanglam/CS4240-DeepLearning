{
 "cells": [
  {
   "cell_type": "code",
   "execution_count": 1,
   "metadata": {},
   "outputs": [],
   "source": [
    "import torch\n",
    "from torch import nn\n",
    "import torch.nn.functional as F\n",
    "from torchvision import transforms, datasets\n",
    "from torchvision import models\n",
    "from torchvision.models import resnet34\n",
    "from tensorboardX import SummaryWriter \n",
    "import time\n",
    "import torch.optim as optim\n",
    "from tqdm import tqdm\n",
    "\n",
    "from torch.utils.data import DataLoader\n",
    "from torch.utils.data import Dataset\n",
    "from skimage import io\n",
    "from PIL import Image\n",
    "from matplotlib import cm\n",
    "import pandas as pd\n",
    "import os\n",
    "import matplotlib.pyplot as plt\n",
    "from urllib import  parse\n",
    "import numpy as np"
   ]
  },
  {
   "cell_type": "code",
   "execution_count": 2,
   "metadata": {},
   "outputs": [],
   "source": [
    "\n",
    "# Define the transform \n",
    "train_transform = transforms.Compose([\n",
    "        transforms.Resize((224,224)),             # takes PIL image as input and outputs PIL image\n",
    "        transforms.ToTensor(),              # takes PIL image as input and outputs torch.tensor\n",
    "        transforms.Normalize(mean=[0.4280, 0.4106, 0.3589],  # takes tensor and outputs tensor\n",
    "                             std=[0.2737, 0.2631, 0.2601]),  # see next step for mean and std\n",
    "    ])\n",
    "\n",
    "valid_transform = transforms.Compose([ \n",
    "        transforms.Resize((224,224)),             \n",
    "#         transforms.CenterCrop(224),\n",
    "        transforms.ToTensor(),\n",
    "        transforms.Normalize(mean=[0.4280, 0.4106, 0.3589],\n",
    "                             std=[0.2737, 0.2631, 0.2601]), \n",
    "    ])\n",
    "\n",
    "test_transform = transforms.Compose([\n",
    "        transforms.Resize((224,224)),             \n",
    "#         transforms.CenterCrop(224),\n",
    "        transforms.ToTensor(),\n",
    "        transforms.Normalize(mean=[0.4280, 0.4106, 0.3589],\n",
    "                             std=[0.2737, 0.2631, 0.2601]), \n",
    "    ])"
   ]
  },
  {
   "cell_type": "code",
   "execution_count": 3,
   "metadata": {},
   "outputs": [],
   "source": [
    "\n",
    "\n",
    "class dataset(Dataset):\n",
    "\n",
    "    def __init__(self, csv_file, root_dir, transform=None):\n",
    "        \"\"\"\n",
    "        Args:\n",
    "            csv_file (string): Path to the csv file with annotations.\n",
    "            root_dir (string): Directory with all the frames.\n",
    "            transform (callable, optional): Optional transform to be applied\n",
    "                on a sample.\n",
    "        \"\"\"\n",
    "        \n",
    "        self.query_frame_train = pd.read_csv(csv_file)\n",
    "        self.root_dir = root_dir\n",
    "        self.transform = transform\n",
    "\n",
    "    def __len__(self):\n",
    "        return len(self.query_frame_train) \n",
    "\n",
    "    \n",
    "\n",
    "    def __getitem__(self, idx): \n",
    "        if torch.is_tensor(idx):\n",
    "            idx = idx.tolist()\n",
    "            \n",
    "        img_name = os.path.join(self.root_dir,\n",
    "                    self.query_frame_train.iloc[idx, 2].split(\"/\")[len(self.query_frame_train.iloc[idx, 2].split(\"/\"))-2],\n",
    "                    self.query_frame_train.iloc[idx, 2].split(\"/\")[len(self.query_frame_train.iloc[idx, 2].split(\"/\"))-1])\n",
    "        \n",
    "        # get correct url \n",
    "        img_name=img_name.replace('\\\\', '/')\n",
    "        img_name=parse.quote(img_name,':?=/')\n",
    "        \n",
    "        image = io.imread(img_name) \n",
    "        query = self.query_frame_train.iloc[idx, 0]\n",
    "        score_annotations = self.query_frame_train.iloc[idx, 3:] \n",
    "        score_annotations = np.array([score_annotations])\n",
    "\n",
    "        score_annotations = score_annotations.astype('float').reshape(-1, )\n",
    "        \n",
    "        sample = {'image': image, 'query': query, 'score_annotations': score_annotations}\n",
    "\n",
    "        if self.transform:\n",
    "            sample['image'] = self.transform(Image.fromarray(sample['image']))\n",
    "            sample['score_annotations'] = torch.from_numpy(sample['score_annotations'])\n",
    "        return sample"
   ]
  },
  {
   "cell_type": "code",
   "execution_count": 4,
   "metadata": {},
   "outputs": [],
   "source": [
    "train_path = \"annotations/query_frame_annotations_train.csv\"\n",
    "test_path = \"annotations/query_frame_annotations_test.csv\"\n",
    "val_path = \"annotations/query_frame_annotations_val.csv\""
   ]
  },
  {
   "cell_type": "code",
   "execution_count": 5,
   "metadata": {},
   "outputs": [],
   "source": [
    "root_dir = \"https://data.vision.ee.ethz.ch/arunv/AMT_VideoFrames/\""
   ]
  },
  {
   "cell_type": "code",
   "execution_count": 6,
   "metadata": {},
   "outputs": [],
   "source": [
    "train_dataset = dataset(train_path, root_dir, train_transform)\n",
    "test_dataset = dataset(test_path, root_dir, test_transform)\n",
    "val_dataset = dataset(val_path, root_dir, valid_transform)"
   ]
  },
  {
   "cell_type": "code",
   "execution_count": 7,
   "metadata": {},
   "outputs": [
    {
     "data": {
      "text/plain": [
       "80845"
      ]
     },
     "execution_count": 7,
     "metadata": {},
     "output_type": "execute_result"
    }
   ],
   "source": [
    "len(train_dataset)"
   ]
  },
  {
   "cell_type": "code",
   "execution_count": 8,
   "metadata": {},
   "outputs": [
    {
     "data": {
      "text/plain": [
       "28570"
      ]
     },
     "execution_count": 8,
     "metadata": {},
     "output_type": "execute_result"
    }
   ],
   "source": [
    "len(test_dataset)"
   ]
  },
  {
   "cell_type": "code",
   "execution_count": 9,
   "metadata": {},
   "outputs": [
    {
     "data": {
      "text/plain": [
       "26245"
      ]
     },
     "execution_count": 9,
     "metadata": {},
     "output_type": "execute_result"
    }
   ],
   "source": [
    "len(val_dataset)"
   ]
  },
  {
   "cell_type": "code",
   "execution_count": 10,
   "metadata": {},
   "outputs": [],
   "source": [
    "\n",
    "class QVSmodel(nn.Module):\n",
    "\n",
    "    def __init__(self):\n",
    "        super(QVSmodel, self).__init__()\n",
    "        \n",
    "        self.model = resnet34(pretrained='imagenet')\n",
    "        self.model = models.resnet34(pretrained=True) \n",
    "        self.fc1 = torch.nn.Linear(512, 4)\n",
    "        \n",
    "        self.fc_text = torch.nn.Linear(8, 512)\n",
    "\n",
    "\n",
    "#     def forward(self, x, y):\n",
    "#         x = self.model.conv1(x)\n",
    "#         x = self.model.bn1(x)\n",
    "#         x = self.model.relu(x)\n",
    "#         x = self.model.maxpool(x)\n",
    "#         x = self.model.layer1(x)\n",
    "#         x = self.model.layer2(x)\n",
    "#         x = self.model.layer3(x)\n",
    "#         x = self.model.layer4(x)     \n",
    "    \n",
    "    \n",
    "#         x = F.avg_pool2d(x, 7)\n",
    "        \n",
    "#         # reshape x\n",
    "#         x = x.view(x.size(0), -1)\n",
    "    \n",
    "#         y = F.relu(self.fc_text(y))\n",
    "        \n",
    "#         #Combine x and y by element-wise multiplication. The output dimension is still (1, 512).\n",
    "#         t1 = torch.mul(x, y)\n",
    "\n",
    "#         #Computes the second fully connected layer\n",
    "#         relevance_class_prediction = self.fc1(t1)\n",
    "        \n",
    "#         return relevance_class_prediction\n",
    "    \n",
    "    def forward(self,x):\n",
    "        x = self.model.conv1(x)\n",
    "        x = self.model.bn1(x)\n",
    "        x = self.model.relu(x)\n",
    "        x = self.model.maxpool(x)\n",
    "        x = self.model.layer1(x)\n",
    "        x = self.model.layer2(x)\n",
    "        x = self.model.layer3(x)\n",
    "        x = self.model.layer4(x)     \n",
    "\n",
    "\n",
    "        x = F.avg_pool2d(x, 7)\n",
    "\n",
    "        # reshape x\n",
    "        x = x.view(x.size(0), -1)\n",
    "\n",
    "#         y = F.relu(self.fc_text(y))\n",
    "\n",
    "        #Combine x and y by element-wise multiplication. The output dimension is still (1, 512).\n",
    "#         t1 = torch.mul(x, y)\n",
    "\n",
    "        #Computes the second fully connected layer\n",
    "        relevance_class_prediction = self.fc1(x)\n",
    "        return relevance_class_prediction\n",
    "\n",
    "# import os\n"
   ]
  },
  {
   "cell_type": "code",
   "execution_count": 11,
   "metadata": {},
   "outputs": [],
   "source": [
    "x = torch.randn((16,3,224,224))\n",
    "# y = torch.randn((1,8))"
   ]
  },
  {
   "cell_type": "code",
   "execution_count": 12,
   "metadata": {},
   "outputs": [],
   "source": [
    "model = QVSmodel()"
   ]
  },
  {
   "cell_type": "code",
   "execution_count": 13,
   "metadata": {},
   "outputs": [],
   "source": [
    "output = model.forward(x)"
   ]
  },
  {
   "cell_type": "code",
   "execution_count": 14,
   "metadata": {},
   "outputs": [
    {
     "data": {
      "text/plain": [
       "torch.Size([16])"
      ]
     },
     "execution_count": 14,
     "metadata": {},
     "output_type": "execute_result"
    }
   ],
   "source": [
    "output[:,0].shape"
   ]
  },
  {
   "cell_type": "code",
   "execution_count": 15,
   "metadata": {},
   "outputs": [],
   "source": [
    "device = torch.device(\"cuda\" if torch.cuda.is_available() else \"cpu\")"
   ]
  },
  {
   "cell_type": "code",
   "execution_count": 16,
   "metadata": {},
   "outputs": [],
   "source": [
    "import os\n",
    "os.environ[\"CUDA_LAUNCH_BLOCKING\"] = \"1\""
   ]
  },
  {
   "cell_type": "code",
   "execution_count": 18,
   "metadata": {},
   "outputs": [],
   "source": [
    "\n",
    "\n",
    "def trainNet(model, batch_size, n_epochs, learning_rate):\n",
    "    \n",
    "    # For GPU\n",
    "    net = model.to(device)\n",
    "    net.train()  \n",
    "    \n",
    "    print(\"===== HYPERPARAMETERS =====\")\n",
    "    print(\"batch_size=\", batch_size)\n",
    "    print(\"epochs=\", n_epochs)\n",
    "    print(\"learning_rate=\", learning_rate)\n",
    "    print(\"=\" * 30)\n",
    "    \n",
    "    #Get data\n",
    "    data_loader =  DataLoader(train_dataset, batch_size = batch_size, shuffle=True)\n",
    "    n_batches = len(data_loader) \n",
    "\n",
    "    loss = torch.nn.CrossEntropyLoss()\n",
    "\n",
    "    optimizer = optim.Adam(net.parameters(), lr = learning_rate)\n",
    "    \n",
    "    training_start_time = time.time()\n",
    "    \n",
    "#     log_file = open('PATH') \n",
    "    writer = SummaryWriter()\n",
    "    \n",
    "    for epoch in range(n_epochs):\n",
    "        \n",
    "        count_relevance = 0\n",
    "        running_loss = 0.0\n",
    "        start_time = time.time()  \n",
    "        total_train_loss = 0\n",
    "        \n",
    "        for i_batch, sample_batched in enumerate(tqdm(data_loader)):\n",
    "\n",
    "    \n",
    "            #Get inputs\n",
    "            inputs, query, labels = sample_batched['image'], sample_batched['query'], sample_batched['score_annotations']          \n",
    "            \n",
    "            labels_relevance = labels[:, 0] \n",
    "            inputs = inputs.to(device)\n",
    "            labels_relevance = labels_relevance.to(device)\n",
    "           \n",
    "            #Wrap them in a Variable object\n",
    "#             inputs, labels_relevance = Variable(inputs), Variable(labels_relevance)\n",
    "            \n",
    "            optimizer.zero_grad()\n",
    "            \n",
    "            outputs = net(inputs)\n",
    "           \n",
    "\n",
    "            loss_size_1 = loss(outputs, labels_relevance.long())\n",
    "            loss_size = loss_size_1\n",
    "            loss_size.backward()\n",
    "            optimizer.step()  \n",
    "   \n",
    "            running_loss += loss_size.item()\n",
    "    \n",
    "            total_train_loss += loss_size.item()  \n",
    "           \n",
    "            #Compute accuracy\n",
    "            max_values_relevance, arg_maxs_relevance = torch.max(outputs, dim = 1)\n",
    "            num_correct_relevance = torch.sum(labels_relevance.long() == arg_maxs_relevance.long())\n",
    "            count_relevance = count_relevance + num_correct_relevance.item()\n",
    "        \n",
    "        \n",
    "            print(\"Epoch {}, {:d}% \\t train_loss_{}_batch: {:.4f} \\t took: {:.4f}s\".format(\n",
    "                        epoch+1, int(100 * (i_batch+1) / len(data_loader)), i_batch+1, running_loss, time.time() - start_time))\n",
    "\n",
    "#              writer.add_scalars(\"Epoch {}, {:d}% \\t train_loss_{}_batch: {:.4f} \\t took: {:.4f}s \\n\".format(\n",
    "#                         epoch+1, int(100 * (i_batch+1) / len(data_loader)), i_batch+1, running_loss, time.time() - start_time))\n",
    "            writer.add_scalar('Train Loss',running_loss,  epoch)\n",
    " \n",
    "            \n",
    "#             log_file.flush()\n",
    "\n",
    "            running_loss = 0.0\n",
    "            start_time = time.time()\n",
    "\n",
    "        acc_relevance = (float(count_relevance)/(len(train_loader)*199))\n",
    "        writer.add_scalar('Training accuracy_relevance',acc_relevance, epoch + 1)\n",
    "\n",
    "        print(\"Training accuracy_relevance = {:.4f} for epoch {}\".format(acc_relevance, epoch +1))\n",
    "\n",
    "\n",
    "    print(\"Training finished, took {:.4f}s\".format(time.time() - training_start_time))\n",
    "    \n",
    "    writer.flush()\n",
    "    writer.close()\n",
    "    return net"
   ]
  },
  {
   "cell_type": "code",
   "execution_count": 19,
   "metadata": {},
   "outputs": [
    {
     "name": "stdout",
     "output_type": "stream",
     "text": [
      "===== HYPERPARAMETERS =====\n",
      "batch_size= 8\n",
      "epochs= 5\n",
      "learning_rate= 0.0001\n",
      "==============================\n"
     ]
    },
    {
     "name": "stderr",
     "output_type": "stream",
     "text": [
      "\r",
      "  0%|                                                                                        | 0/10106 [00:00<?, ?it/s]"
     ]
    },
    {
     "name": "stdout",
     "output_type": "stream",
     "text": [
      "torch.Size([8])\n",
      "tensor(3., device='cuda:0', dtype=torch.float64)\n",
      "tensor(1., device='cuda:0', dtype=torch.float64)\n"
     ]
    },
    {
     "name": "stderr",
     "output_type": "stream",
     "text": [
      "\r",
      "  0%|                                                                             | 1/10106 [00:04<11:23:15,  4.06s/it]"
     ]
    },
    {
     "name": "stdout",
     "output_type": "stream",
     "text": [
      "Epoch 1, 0% \t train_loss_1_batch: 2.0002 \t took: 4.0579s\n"
     ]
    },
    {
     "name": "stderr",
     "output_type": "stream",
     "text": [
      "\r",
      "  0%|                                                                              | 2/10106 [00:05<7:10:43,  2.56s/it]"
     ]
    },
    {
     "name": "stdout",
     "output_type": "stream",
     "text": [
      "torch.Size([8])\n",
      "tensor(3., device='cuda:0', dtype=torch.float64)\n",
      "tensor(2., device='cuda:0', dtype=torch.float64)\n",
      "Epoch 1, 0% \t train_loss_2_batch: 2.0499 \t took: 1.5082s\n"
     ]
    },
    {
     "name": "stderr",
     "output_type": "stream",
     "text": [
      "\r",
      "  0%|                                                                              | 3/10106 [00:06<5:41:21,  2.03s/it]"
     ]
    },
    {
     "name": "stdout",
     "output_type": "stream",
     "text": [
      "torch.Size([8])\n",
      "tensor(3., device='cuda:0', dtype=torch.float64)\n",
      "tensor(0., device='cuda:0', dtype=torch.float64)\n",
      "Epoch 1, 0% \t train_loss_3_batch: 1.7353 \t took: 1.3950s\n"
     ]
    },
    {
     "name": "stderr",
     "output_type": "stream",
     "text": [
      "\r",
      "  0%|                                                                              | 4/10106 [00:08<5:00:49,  1.79s/it]"
     ]
    },
    {
     "name": "stdout",
     "output_type": "stream",
     "text": [
      "torch.Size([8])\n",
      "tensor(3., device='cuda:0', dtype=torch.float64)\n",
      "tensor(0., device='cuda:0', dtype=torch.float64)\n",
      "Epoch 1, 0% \t train_loss_4_batch: 1.3915 \t took: 1.4181s\n"
     ]
    },
    {
     "name": "stderr",
     "output_type": "stream",
     "text": [
      "\r",
      "  0%|                                                                              | 5/10106 [00:09<4:36:03,  1.64s/it]"
     ]
    },
    {
     "name": "stdout",
     "output_type": "stream",
     "text": [
      "torch.Size([8])\n",
      "tensor(3., device='cuda:0', dtype=torch.float64)\n",
      "tensor(0., device='cuda:0', dtype=torch.float64)\n",
      "Epoch 1, 0% \t train_loss_5_batch: 1.4969 \t took: 1.3791s\n"
     ]
    },
    {
     "name": "stderr",
     "output_type": "stream",
     "text": [
      "\r",
      "  0%|                                                                              | 6/10106 [00:11<4:19:40,  1.54s/it]"
     ]
    },
    {
     "name": "stdout",
     "output_type": "stream",
     "text": [
      "torch.Size([8])\n",
      "tensor(3., device='cuda:0', dtype=torch.float64)\n",
      "tensor(1., device='cuda:0', dtype=torch.float64)\n",
      "Epoch 1, 0% \t train_loss_6_batch: 1.4648 \t took: 1.3540s\n"
     ]
    },
    {
     "name": "stderr",
     "output_type": "stream",
     "text": [
      "\r",
      "  0%|                                                                              | 7/10106 [00:12<4:11:55,  1.50s/it]"
     ]
    },
    {
     "name": "stdout",
     "output_type": "stream",
     "text": [
      "torch.Size([8])\n",
      "tensor(3., device='cuda:0', dtype=torch.float64)\n",
      "tensor(1., device='cuda:0', dtype=torch.float64)\n",
      "Epoch 1, 0% \t train_loss_7_batch: 1.7067 \t took: 1.4013s\n"
     ]
    },
    {
     "name": "stderr",
     "output_type": "stream",
     "text": [
      "\r",
      "  0%|                                                                              | 8/10106 [00:14<4:26:54,  1.59s/it]"
     ]
    },
    {
     "name": "stdout",
     "output_type": "stream",
     "text": [
      "torch.Size([8])\n",
      "tensor(3., device='cuda:0', dtype=torch.float64)\n",
      "tensor(0., device='cuda:0', dtype=torch.float64)\n",
      "Epoch 1, 0% \t train_loss_8_batch: 1.4895 \t took: 1.7759s\n"
     ]
    },
    {
     "name": "stderr",
     "output_type": "stream",
     "text": [
      "\r",
      "  0%|                                                                              | 9/10106 [00:15<4:32:11,  1.62s/it]"
     ]
    },
    {
     "name": "stdout",
     "output_type": "stream",
     "text": [
      "torch.Size([8])\n",
      "tensor(3., device='cuda:0', dtype=torch.float64)\n",
      "tensor(0., device='cuda:0', dtype=torch.float64)\n",
      "Epoch 1, 0% \t train_loss_9_batch: 1.7531 \t took: 1.6868s\n"
     ]
    },
    {
     "name": "stderr",
     "output_type": "stream",
     "text": [
      "\r",
      "  0%|                                                                             | 10/10106 [00:17<4:19:37,  1.54s/it]"
     ]
    },
    {
     "name": "stdout",
     "output_type": "stream",
     "text": [
      "torch.Size([8])\n",
      "tensor(3., device='cuda:0', dtype=torch.float64)\n",
      "tensor(0., device='cuda:0', dtype=torch.float64)\n",
      "Epoch 1, 0% \t train_loss_10_batch: 1.6825 \t took: 1.3761s\n"
     ]
    },
    {
     "name": "stderr",
     "output_type": "stream",
     "text": [
      "\r",
      "  0%|                                                                             | 11/10106 [00:19<4:33:21,  1.62s/it]"
     ]
    },
    {
     "name": "stdout",
     "output_type": "stream",
     "text": [
      "torch.Size([8])\n",
      "tensor(3., device='cuda:0', dtype=torch.float64)\n",
      "tensor(1., device='cuda:0', dtype=torch.float64)\n",
      "Epoch 1, 0% \t train_loss_11_batch: 1.3399 \t took: 1.8103s\n"
     ]
    },
    {
     "name": "stderr",
     "output_type": "stream",
     "text": [
      "\r",
      "  0%|                                                                             | 12/10106 [00:20<4:21:14,  1.55s/it]"
     ]
    },
    {
     "name": "stdout",
     "output_type": "stream",
     "text": [
      "torch.Size([8])\n",
      "tensor(3., device='cuda:0', dtype=torch.float64)\n",
      "tensor(2., device='cuda:0', dtype=torch.float64)\n",
      "Epoch 1, 0% \t train_loss_12_batch: 1.4901 \t took: 1.3883s\n"
     ]
    },
    {
     "name": "stderr",
     "output_type": "stream",
     "text": [
      "\r",
      "  0%|                                                                             | 13/10106 [00:21<4:13:41,  1.51s/it]"
     ]
    },
    {
     "name": "stdout",
     "output_type": "stream",
     "text": [
      "torch.Size([8])\n",
      "tensor(3., device='cuda:0', dtype=torch.float64)\n",
      "tensor(0., device='cuda:0', dtype=torch.float64)\n",
      "Epoch 1, 0% \t train_loss_13_batch: 2.0110 \t took: 1.4053s\n"
     ]
    },
    {
     "name": "stderr",
     "output_type": "stream",
     "text": [
      "\r",
      "  0%|                                                                             | 14/10106 [00:23<4:19:10,  1.54s/it]"
     ]
    },
    {
     "name": "stdout",
     "output_type": "stream",
     "text": [
      "torch.Size([8])\n",
      "tensor(3., device='cuda:0', dtype=torch.float64)\n",
      "tensor(0., device='cuda:0', dtype=torch.float64)\n",
      "Epoch 1, 0% \t train_loss_14_batch: 1.3446 \t took: 1.6164s\n"
     ]
    },
    {
     "name": "stderr",
     "output_type": "stream",
     "text": [
      "\r",
      "  0%|                                                                             | 15/10106 [00:25<4:29:17,  1.60s/it]"
     ]
    },
    {
     "name": "stdout",
     "output_type": "stream",
     "text": [
      "torch.Size([8])\n",
      "tensor(3., device='cuda:0', dtype=torch.float64)\n",
      "tensor(0., device='cuda:0', dtype=torch.float64)\n",
      "Epoch 1, 0% \t train_loss_15_batch: 1.7016 \t took: 1.7400s\n"
     ]
    },
    {
     "name": "stderr",
     "output_type": "stream",
     "text": [
      "\r",
      "  0%|                                                                             | 16/10106 [00:27<4:50:11,  1.73s/it]"
     ]
    },
    {
     "name": "stdout",
     "output_type": "stream",
     "text": [
      "torch.Size([8])\n",
      "tensor(3., device='cuda:0', dtype=torch.float64)\n",
      "tensor(1., device='cuda:0', dtype=torch.float64)\n",
      "Epoch 1, 0% \t train_loss_16_batch: 1.3143 \t took: 2.0138s\n"
     ]
    },
    {
     "name": "stderr",
     "output_type": "stream",
     "text": [
      "\r",
      "  0%|▏                                                                            | 17/10106 [00:28<4:45:45,  1.70s/it]"
     ]
    },
    {
     "name": "stdout",
     "output_type": "stream",
     "text": [
      "torch.Size([8])\n",
      "tensor(3., device='cuda:0', dtype=torch.float64)\n",
      "tensor(0., device='cuda:0', dtype=torch.float64)\n",
      "Epoch 1, 0% \t train_loss_17_batch: 1.4824 \t took: 1.6383s\n"
     ]
    },
    {
     "name": "stderr",
     "output_type": "stream",
     "text": [
      "\r",
      "  0%|▏                                                                            | 18/10106 [00:30<4:52:19,  1.74s/it]"
     ]
    },
    {
     "name": "stdout",
     "output_type": "stream",
     "text": [
      "torch.Size([8])\n",
      "tensor(3., device='cuda:0', dtype=torch.float64)\n",
      "tensor(1., device='cuda:0', dtype=torch.float64)\n",
      "Epoch 1, 0% \t train_loss_18_batch: 1.2225 \t took: 1.8290s\n"
     ]
    },
    {
     "name": "stderr",
     "output_type": "stream",
     "text": [
      "\r",
      "  0%|▏                                                                            | 19/10106 [00:32<4:55:33,  1.76s/it]"
     ]
    },
    {
     "name": "stdout",
     "output_type": "stream",
     "text": [
      "torch.Size([8])\n",
      "tensor(3., device='cuda:0', dtype=torch.float64)\n",
      "tensor(1., device='cuda:0', dtype=torch.float64)\n",
      "Epoch 1, 0% \t train_loss_19_batch: 1.6408 \t took: 1.8041s\n"
     ]
    },
    {
     "name": "stderr",
     "output_type": "stream",
     "text": [
      "\r",
      "  0%|▏                                                                            | 20/10106 [00:33<4:35:11,  1.64s/it]"
     ]
    },
    {
     "name": "stdout",
     "output_type": "stream",
     "text": [
      "torch.Size([8])\n",
      "tensor(3., device='cuda:0', dtype=torch.float64)\n",
      "tensor(2., device='cuda:0', dtype=torch.float64)\n",
      "Epoch 1, 0% \t train_loss_20_batch: 1.4251 \t took: 1.3553s\n"
     ]
    },
    {
     "name": "stderr",
     "output_type": "stream",
     "text": [
      "\r",
      "  0%|▏                                                                            | 21/10106 [00:35<4:51:48,  1.74s/it]"
     ]
    },
    {
     "name": "stdout",
     "output_type": "stream",
     "text": [
      "torch.Size([8])\n",
      "tensor(3., device='cuda:0', dtype=torch.float64)\n",
      "tensor(0., device='cuda:0', dtype=torch.float64)\n",
      "Epoch 1, 0% \t train_loss_21_batch: 1.3787 \t took: 1.9668s\n"
     ]
    },
    {
     "name": "stderr",
     "output_type": "stream",
     "text": [
      "\r",
      "  0%|▏                                                                            | 22/10106 [00:37<4:34:10,  1.63s/it]"
     ]
    },
    {
     "name": "stdout",
     "output_type": "stream",
     "text": [
      "torch.Size([8])\n",
      "tensor(3., device='cuda:0', dtype=torch.float64)\n",
      "tensor(0., device='cuda:0', dtype=torch.float64)\n",
      "Epoch 1, 0% \t train_loss_22_batch: 1.4360 \t took: 1.3872s\n"
     ]
    },
    {
     "name": "stderr",
     "output_type": "stream",
     "text": [
      "\r",
      "  0%|▏                                                                            | 23/10106 [00:38<4:23:33,  1.57s/it]"
     ]
    },
    {
     "name": "stdout",
     "output_type": "stream",
     "text": [
      "torch.Size([8])\n",
      "tensor(3., device='cuda:0', dtype=torch.float64)\n",
      "tensor(1., device='cuda:0', dtype=torch.float64)\n",
      "Epoch 1, 0% \t train_loss_23_batch: 1.9219 \t took: 1.4212s\n"
     ]
    },
    {
     "name": "stderr",
     "output_type": "stream",
     "text": [
      "\r",
      "  0%|▏                                                                            | 24/10106 [00:40<4:13:22,  1.51s/it]"
     ]
    },
    {
     "name": "stdout",
     "output_type": "stream",
     "text": [
      "torch.Size([8])\n",
      "tensor(3., device='cuda:0', dtype=torch.float64)\n",
      "tensor(1., device='cuda:0', dtype=torch.float64)\n",
      "Epoch 1, 0% \t train_loss_24_batch: 1.4893 \t took: 1.3669s\n"
     ]
    },
    {
     "name": "stderr",
     "output_type": "stream",
     "text": [
      "\r",
      "  0%|▏                                                                            | 25/10106 [00:41<4:05:34,  1.46s/it]"
     ]
    },
    {
     "name": "stdout",
     "output_type": "stream",
     "text": [
      "torch.Size([8])\n",
      "tensor(3., device='cuda:0', dtype=torch.float64)\n",
      "tensor(0., device='cuda:0', dtype=torch.float64)\n",
      "Epoch 1, 0% \t train_loss_25_batch: 1.1795 \t took: 1.3536s\n"
     ]
    },
    {
     "name": "stderr",
     "output_type": "stream",
     "text": [
      "\r",
      "  0%|▏                                                                            | 26/10106 [00:42<4:02:16,  1.44s/it]"
     ]
    },
    {
     "name": "stdout",
     "output_type": "stream",
     "text": [
      "torch.Size([8])\n",
      "tensor(3., device='cuda:0', dtype=torch.float64)\n",
      "tensor(0., device='cuda:0', dtype=torch.float64)\n",
      "Epoch 1, 0% \t train_loss_26_batch: 1.3048 \t took: 1.3958s\n"
     ]
    },
    {
     "name": "stderr",
     "output_type": "stream",
     "text": [
      "\r",
      "  0%|▏                                                                            | 27/10106 [00:44<4:00:14,  1.43s/it]"
     ]
    },
    {
     "name": "stdout",
     "output_type": "stream",
     "text": [
      "torch.Size([8])\n",
      "tensor(3., device='cuda:0', dtype=torch.float64)\n",
      "tensor(0., device='cuda:0', dtype=torch.float64)\n",
      "Epoch 1, 0% \t train_loss_27_batch: 1.4222 \t took: 1.4023s\n"
     ]
    },
    {
     "name": "stderr",
     "output_type": "stream",
     "text": [
      "\r",
      "  0%|▏                                                                            | 28/10106 [00:45<4:00:21,  1.43s/it]"
     ]
    },
    {
     "name": "stdout",
     "output_type": "stream",
     "text": [
      "torch.Size([8])\n",
      "tensor(3., device='cuda:0', dtype=torch.float64)\n",
      "tensor(2., device='cuda:0', dtype=torch.float64)\n",
      "Epoch 1, 0% \t train_loss_28_batch: 1.1882 \t took: 1.4328s\n"
     ]
    },
    {
     "name": "stderr",
     "output_type": "stream",
     "text": [
      "\r",
      "  0%|▏                                                                            | 29/10106 [00:47<3:58:59,  1.42s/it]"
     ]
    },
    {
     "name": "stdout",
     "output_type": "stream",
     "text": [
      "torch.Size([8])\n",
      "tensor(3., device='cuda:0', dtype=torch.float64)\n",
      "tensor(1., device='cuda:0', dtype=torch.float64)\n",
      "Epoch 1, 0% \t train_loss_29_batch: 1.4040 \t took: 1.4044s\n"
     ]
    },
    {
     "name": "stderr",
     "output_type": "stream",
     "text": [
      "\r",
      "  0%|▏                                                                            | 30/10106 [00:48<3:57:42,  1.42s/it]"
     ]
    },
    {
     "name": "stdout",
     "output_type": "stream",
     "text": [
      "torch.Size([8])\n",
      "tensor(3., device='cuda:0', dtype=torch.float64)\n",
      "tensor(0., device='cuda:0', dtype=torch.float64)\n",
      "Epoch 1, 0% \t train_loss_30_batch: 1.9089 \t took: 1.3979s\n"
     ]
    },
    {
     "name": "stderr",
     "output_type": "stream",
     "text": [
      "\r",
      "  0%|▏                                                                            | 31/10106 [00:49<3:53:43,  1.39s/it]"
     ]
    },
    {
     "name": "stdout",
     "output_type": "stream",
     "text": [
      "torch.Size([8])\n",
      "tensor(3., device='cuda:0', dtype=torch.float64)\n",
      "tensor(0., device='cuda:0', dtype=torch.float64)\n",
      "Epoch 1, 0% \t train_loss_31_batch: 1.0851 \t took: 1.3359s\n"
     ]
    },
    {
     "name": "stderr",
     "output_type": "stream",
     "text": [
      "\r",
      "  0%|▏                                                                            | 32/10106 [00:51<3:50:33,  1.37s/it]"
     ]
    },
    {
     "name": "stdout",
     "output_type": "stream",
     "text": [
      "torch.Size([8])\n",
      "tensor(3., device='cuda:0', dtype=torch.float64)\n",
      "tensor(1., device='cuda:0', dtype=torch.float64)\n",
      "Epoch 1, 0% \t train_loss_32_batch: 0.6579 \t took: 1.3294s\n"
     ]
    },
    {
     "name": "stderr",
     "output_type": "stream",
     "text": [
      "\r",
      "  0%|▎                                                                            | 33/10106 [00:52<3:45:30,  1.34s/it]"
     ]
    },
    {
     "name": "stdout",
     "output_type": "stream",
     "text": [
      "torch.Size([8])\n",
      "tensor(3., device='cuda:0', dtype=torch.float64)\n",
      "tensor(0., device='cuda:0', dtype=torch.float64)\n",
      "Epoch 1, 0% \t train_loss_33_batch: 1.3510 \t took: 1.2723s\n"
     ]
    },
    {
     "name": "stderr",
     "output_type": "stream",
     "text": [
      "\r",
      "  0%|▎                                                                            | 34/10106 [00:53<3:50:00,  1.37s/it]"
     ]
    },
    {
     "name": "stdout",
     "output_type": "stream",
     "text": [
      "torch.Size([8])\n",
      "tensor(2., device='cuda:0', dtype=torch.float64)\n",
      "tensor(1., device='cuda:0', dtype=torch.float64)\n",
      "Epoch 1, 0% \t train_loss_34_batch: 0.7646 \t took: 1.4331s\n"
     ]
    },
    {
     "name": "stderr",
     "output_type": "stream",
     "text": [
      "\r",
      "  0%|▎                                                                            | 35/10106 [00:55<3:49:48,  1.37s/it]"
     ]
    },
    {
     "name": "stdout",
     "output_type": "stream",
     "text": [
      "torch.Size([8])\n",
      "tensor(3., device='cuda:0', dtype=torch.float64)\n",
      "tensor(1., device='cuda:0', dtype=torch.float64)\n",
      "Epoch 1, 0% \t train_loss_35_batch: 1.0406 \t took: 1.3666s\n"
     ]
    },
    {
     "name": "stderr",
     "output_type": "stream",
     "text": [
      "\r",
      "  0%|▎                                                                            | 36/10106 [00:56<3:51:41,  1.38s/it]"
     ]
    },
    {
     "name": "stdout",
     "output_type": "stream",
     "text": [
      "torch.Size([8])\n",
      "tensor(3., device='cuda:0', dtype=torch.float64)\n",
      "tensor(0., device='cuda:0', dtype=torch.float64)\n",
      "Epoch 1, 0% \t train_loss_36_batch: 1.3414 \t took: 1.4072s\n"
     ]
    },
    {
     "name": "stderr",
     "output_type": "stream",
     "text": [
      "\r",
      "  0%|▎                                                                            | 37/10106 [00:58<3:52:15,  1.38s/it]"
     ]
    },
    {
     "name": "stdout",
     "output_type": "stream",
     "text": [
      "torch.Size([8])\n",
      "tensor(3., device='cuda:0', dtype=torch.float64)\n",
      "tensor(1., device='cuda:0', dtype=torch.float64)\n",
      "Epoch 1, 0% \t train_loss_37_batch: 1.0208 \t took: 1.3921s\n"
     ]
    },
    {
     "name": "stderr",
     "output_type": "stream",
     "text": [
      "\r",
      "  0%|▎                                                                            | 38/10106 [00:59<3:47:29,  1.36s/it]"
     ]
    },
    {
     "name": "stdout",
     "output_type": "stream",
     "text": [
      "torch.Size([8])\n",
      "tensor(3., device='cuda:0', dtype=torch.float64)\n",
      "tensor(0., device='cuda:0', dtype=torch.float64)\n",
      "Epoch 1, 0% \t train_loss_38_batch: 1.3654 \t took: 1.2896s\n"
     ]
    },
    {
     "name": "stderr",
     "output_type": "stream",
     "text": [
      "\r",
      "  0%|▎                                                                            | 39/10106 [01:00<3:48:48,  1.36s/it]"
     ]
    },
    {
     "name": "stdout",
     "output_type": "stream",
     "text": [
      "torch.Size([8])\n",
      "tensor(3., device='cuda:0', dtype=torch.float64)\n",
      "tensor(0., device='cuda:0', dtype=torch.float64)\n",
      "Epoch 1, 0% \t train_loss_39_batch: 1.7084 \t took: 1.3814s\n"
     ]
    },
    {
     "name": "stderr",
     "output_type": "stream",
     "text": [
      "\r",
      "  0%|▎                                                                            | 40/10106 [01:02<3:48:33,  1.36s/it]"
     ]
    },
    {
     "name": "stdout",
     "output_type": "stream",
     "text": [
      "torch.Size([8])\n",
      "tensor(3., device='cuda:0', dtype=torch.float64)\n",
      "tensor(1., device='cuda:0', dtype=torch.float64)\n",
      "Epoch 1, 0% \t train_loss_40_batch: 1.9682 \t took: 1.3591s\n"
     ]
    },
    {
     "name": "stderr",
     "output_type": "stream",
     "text": [
      "\r",
      "  0%|▎                                                                            | 41/10106 [01:03<3:48:41,  1.36s/it]"
     ]
    },
    {
     "name": "stdout",
     "output_type": "stream",
     "text": [
      "torch.Size([8])\n",
      "tensor(3., device='cuda:0', dtype=torch.float64)\n",
      "tensor(0., device='cuda:0', dtype=torch.float64)\n",
      "Epoch 1, 0% \t train_loss_41_batch: 1.4201 \t took: 1.3654s\n"
     ]
    },
    {
     "name": "stderr",
     "output_type": "stream",
     "text": [
      "\r",
      "  0%|▎                                                                            | 42/10106 [01:04<3:50:13,  1.37s/it]"
     ]
    },
    {
     "name": "stdout",
     "output_type": "stream",
     "text": [
      "torch.Size([8])\n",
      "tensor(3., device='cuda:0', dtype=torch.float64)\n",
      "tensor(1., device='cuda:0', dtype=torch.float64)\n",
      "Epoch 1, 0% \t train_loss_42_batch: 1.2636 \t took: 1.3931s\n"
     ]
    },
    {
     "name": "stderr",
     "output_type": "stream",
     "text": [
      "\r",
      "  0%|▎                                                                            | 43/10106 [01:06<3:51:12,  1.38s/it]"
     ]
    },
    {
     "name": "stdout",
     "output_type": "stream",
     "text": [
      "torch.Size([8])\n",
      "tensor(3., device='cuda:0', dtype=torch.float64)\n",
      "tensor(0., device='cuda:0', dtype=torch.float64)\n",
      "Epoch 1, 0% \t train_loss_43_batch: 1.5250 \t took: 1.3926s\n"
     ]
    },
    {
     "name": "stderr",
     "output_type": "stream",
     "text": [
      "\r",
      "  0%|▎                                                                            | 44/10106 [01:07<3:51:59,  1.38s/it]"
     ]
    },
    {
     "name": "stdout",
     "output_type": "stream",
     "text": [
      "torch.Size([8])\n",
      "tensor(3., device='cuda:0', dtype=torch.float64)\n",
      "tensor(1., device='cuda:0', dtype=torch.float64)\n",
      "Epoch 1, 0% \t train_loss_44_batch: 1.3468 \t took: 1.3948s\n"
     ]
    },
    {
     "name": "stderr",
     "output_type": "stream",
     "text": [
      "\r",
      "  0%|▎                                                                            | 45/10106 [01:09<3:52:56,  1.39s/it]"
     ]
    },
    {
     "name": "stdout",
     "output_type": "stream",
     "text": [
      "torch.Size([8])\n",
      "tensor(3., device='cuda:0', dtype=torch.float64)\n",
      "tensor(2., device='cuda:0', dtype=torch.float64)\n",
      "Epoch 1, 0% \t train_loss_45_batch: 0.7355 \t took: 1.4025s\n"
     ]
    },
    {
     "name": "stderr",
     "output_type": "stream",
     "text": [
      "\r",
      "  0%|▎                                                                            | 46/10106 [01:10<3:52:59,  1.39s/it]"
     ]
    },
    {
     "name": "stdout",
     "output_type": "stream",
     "text": [
      "torch.Size([8])\n",
      "tensor(3., device='cuda:0', dtype=torch.float64)\n",
      "tensor(0., device='cuda:0', dtype=torch.float64)\n",
      "Epoch 1, 0% \t train_loss_46_batch: 1.3090 \t took: 1.3907s\n"
     ]
    },
    {
     "name": "stderr",
     "output_type": "stream",
     "text": [
      "\r",
      "  0%|▎                                                                            | 47/10106 [01:11<3:47:28,  1.36s/it]"
     ]
    },
    {
     "name": "stdout",
     "output_type": "stream",
     "text": [
      "torch.Size([8])\n",
      "tensor(3., device='cuda:0', dtype=torch.float64)\n",
      "tensor(0., device='cuda:0', dtype=torch.float64)\n",
      "Epoch 1, 0% \t train_loss_47_batch: 1.0777 \t took: 1.2803s\n"
     ]
    },
    {
     "name": "stderr",
     "output_type": "stream",
     "text": [
      "\r",
      "  0%|▎                                                                            | 48/10106 [01:13<3:47:42,  1.36s/it]"
     ]
    },
    {
     "name": "stdout",
     "output_type": "stream",
     "text": [
      "torch.Size([8])\n",
      "tensor(3., device='cuda:0', dtype=torch.float64)\n",
      "tensor(1., device='cuda:0', dtype=torch.float64)\n",
      "Epoch 1, 0% \t train_loss_48_batch: 1.5005 \t took: 1.3620s\n"
     ]
    },
    {
     "name": "stderr",
     "output_type": "stream",
     "text": [
      "\r",
      "  0%|▎                                                                            | 49/10106 [01:14<3:50:48,  1.38s/it]"
     ]
    },
    {
     "name": "stdout",
     "output_type": "stream",
     "text": [
      "torch.Size([8])\n",
      "tensor(2., device='cuda:0', dtype=torch.float64)\n",
      "tensor(0., device='cuda:0', dtype=torch.float64)\n",
      "Epoch 1, 0% \t train_loss_49_batch: 1.6309 \t took: 1.4205s\n"
     ]
    },
    {
     "name": "stderr",
     "output_type": "stream",
     "text": [
      "\r",
      "  0%|▍                                                                            | 50/10106 [01:15<3:50:43,  1.38s/it]"
     ]
    },
    {
     "name": "stdout",
     "output_type": "stream",
     "text": [
      "torch.Size([8])\n",
      "tensor(3., device='cuda:0', dtype=torch.float64)\n",
      "tensor(0., device='cuda:0', dtype=torch.float64)\n",
      "Epoch 1, 0% \t train_loss_50_batch: 1.0272 \t took: 1.3758s\n"
     ]
    },
    {
     "name": "stderr",
     "output_type": "stream",
     "text": [
      "\r",
      "  1%|▍                                                                            | 51/10106 [01:17<3:48:58,  1.37s/it]"
     ]
    },
    {
     "name": "stdout",
     "output_type": "stream",
     "text": [
      "torch.Size([8])\n",
      "tensor(3., device='cuda:0', dtype=torch.float64)\n",
      "tensor(0., device='cuda:0', dtype=torch.float64)\n",
      "Epoch 1, 0% \t train_loss_51_batch: 0.9442 \t took: 1.3424s\n"
     ]
    },
    {
     "name": "stderr",
     "output_type": "stream",
     "text": [
      "\r",
      "  1%|▍                                                                            | 52/10106 [01:18<3:50:33,  1.38s/it]"
     ]
    },
    {
     "name": "stdout",
     "output_type": "stream",
     "text": [
      "torch.Size([8])\n",
      "tensor(3., device='cuda:0', dtype=torch.float64)\n",
      "tensor(0., device='cuda:0', dtype=torch.float64)\n",
      "Epoch 1, 0% \t train_loss_52_batch: 1.0777 \t took: 1.3983s\n"
     ]
    },
    {
     "name": "stderr",
     "output_type": "stream",
     "text": [
      "\r",
      "  1%|▍                                                                            | 53/10106 [01:19<3:48:20,  1.36s/it]"
     ]
    },
    {
     "name": "stdout",
     "output_type": "stream",
     "text": [
      "torch.Size([8])\n",
      "tensor(3., device='cuda:0', dtype=torch.float64)\n",
      "tensor(2., device='cuda:0', dtype=torch.float64)\n",
      "Epoch 1, 0% \t train_loss_53_batch: 1.1721 \t took: 1.3321s\n"
     ]
    },
    {
     "name": "stderr",
     "output_type": "stream",
     "text": [
      "\r",
      "  1%|▍                                                                            | 54/10106 [01:21<3:52:04,  1.39s/it]"
     ]
    },
    {
     "name": "stdout",
     "output_type": "stream",
     "text": [
      "torch.Size([8])\n",
      "tensor(3., device='cuda:0', dtype=torch.float64)\n",
      "tensor(0., device='cuda:0', dtype=torch.float64)\n",
      "Epoch 1, 0% \t train_loss_54_batch: 1.4681 \t took: 1.4378s\n"
     ]
    },
    {
     "name": "stderr",
     "output_type": "stream",
     "text": [
      "\r",
      "  1%|▍                                                                            | 55/10106 [01:22<3:51:22,  1.38s/it]"
     ]
    },
    {
     "name": "stdout",
     "output_type": "stream",
     "text": [
      "torch.Size([8])\n",
      "tensor(3., device='cuda:0', dtype=torch.float64)\n",
      "tensor(1., device='cuda:0', dtype=torch.float64)\n",
      "Epoch 1, 0% \t train_loss_55_batch: 1.1266 \t took: 1.3717s\n"
     ]
    },
    {
     "name": "stderr",
     "output_type": "stream",
     "text": [
      "\r",
      "  1%|▍                                                                            | 56/10106 [01:24<3:52:02,  1.39s/it]"
     ]
    },
    {
     "name": "stdout",
     "output_type": "stream",
     "text": [
      "torch.Size([8])\n",
      "tensor(3., device='cuda:0', dtype=torch.float64)\n",
      "tensor(0., device='cuda:0', dtype=torch.float64)\n",
      "Epoch 1, 0% \t train_loss_56_batch: 1.5084 \t took: 1.3948s\n"
     ]
    },
    {
     "name": "stderr",
     "output_type": "stream",
     "text": [
      "\r",
      "  1%|▍                                                                            | 57/10106 [01:25<3:52:39,  1.39s/it]"
     ]
    },
    {
     "name": "stdout",
     "output_type": "stream",
     "text": [
      "torch.Size([8])\n",
      "tensor(3., device='cuda:0', dtype=torch.float64)\n",
      "tensor(0., device='cuda:0', dtype=torch.float64)\n",
      "Epoch 1, 0% \t train_loss_57_batch: 1.3491 \t took: 1.3982s\n"
     ]
    },
    {
     "name": "stderr",
     "output_type": "stream",
     "text": [
      "\r",
      "  1%|▍                                                                            | 58/10106 [01:26<3:53:50,  1.40s/it]"
     ]
    },
    {
     "name": "stdout",
     "output_type": "stream",
     "text": [
      "torch.Size([8])\n",
      "tensor(3., device='cuda:0', dtype=torch.float64)\n",
      "tensor(0., device='cuda:0', dtype=torch.float64)\n",
      "Epoch 1, 0% \t train_loss_58_batch: 0.9610 \t took: 1.4130s\n"
     ]
    },
    {
     "name": "stderr",
     "output_type": "stream",
     "text": [
      "\r",
      "  1%|▍                                                                            | 59/10106 [01:28<3:51:01,  1.38s/it]"
     ]
    },
    {
     "name": "stdout",
     "output_type": "stream",
     "text": [
      "torch.Size([8])\n",
      "tensor(3., device='cuda:0', dtype=torch.float64)\n",
      "tensor(0., device='cuda:0', dtype=torch.float64)\n",
      "Epoch 1, 0% \t train_loss_59_batch: 1.4419 \t took: 1.3410s\n"
     ]
    },
    {
     "name": "stderr",
     "output_type": "stream",
     "text": [
      "\r",
      "  1%|▍                                                                            | 60/10106 [01:29<3:50:13,  1.38s/it]"
     ]
    },
    {
     "name": "stdout",
     "output_type": "stream",
     "text": [
      "torch.Size([8])\n",
      "tensor(2., device='cuda:0', dtype=torch.float64)\n",
      "tensor(0., device='cuda:0', dtype=torch.float64)\n",
      "Epoch 1, 0% \t train_loss_60_batch: 0.9622 \t took: 1.3642s\n"
     ]
    },
    {
     "name": "stderr",
     "output_type": "stream",
     "text": [
      "\r",
      "  1%|▍                                                                            | 61/10106 [01:30<3:49:02,  1.37s/it]"
     ]
    },
    {
     "name": "stdout",
     "output_type": "stream",
     "text": [
      "torch.Size([8])\n",
      "tensor(3., device='cuda:0', dtype=torch.float64)\n",
      "tensor(1., device='cuda:0', dtype=torch.float64)\n",
      "Epoch 1, 0% \t train_loss_61_batch: 1.3254 \t took: 1.3507s\n",
      "torch.Size([8])\n",
      "tensor(2., device='cuda:0', dtype=torch.float64)\n",
      "tensor(0., device='cuda:0', dtype=torch.float64)\n"
     ]
    },
    {
     "name": "stderr",
     "output_type": "stream",
     "text": [
      "\r",
      "  1%|▍                                                                            | 62/10106 [01:32<3:48:57,  1.37s/it]"
     ]
    },
    {
     "name": "stdout",
     "output_type": "stream",
     "text": [
      "Epoch 1, 0% \t train_loss_62_batch: 1.6683 \t took: 1.3669s\n"
     ]
    },
    {
     "name": "stderr",
     "output_type": "stream",
     "text": [
      "\r",
      "  1%|▍                                                                            | 63/10106 [01:33<3:53:28,  1.39s/it]"
     ]
    },
    {
     "name": "stdout",
     "output_type": "stream",
     "text": [
      "torch.Size([8])\n",
      "tensor(3., device='cuda:0', dtype=torch.float64)\n",
      "tensor(0., device='cuda:0', dtype=torch.float64)\n",
      "Epoch 1, 0% \t train_loss_63_batch: 1.2390 \t took: 1.4582s\n"
     ]
    },
    {
     "name": "stderr",
     "output_type": "stream",
     "text": [
      "\r",
      "  1%|▍                                                                            | 64/10106 [01:35<3:59:34,  1.43s/it]"
     ]
    },
    {
     "name": "stdout",
     "output_type": "stream",
     "text": [
      "torch.Size([8])\n",
      "tensor(3., device='cuda:0', dtype=torch.float64)\n",
      "tensor(1., device='cuda:0', dtype=torch.float64)\n",
      "Epoch 1, 0% \t train_loss_64_batch: 1.1095 \t took: 1.5169s\n"
     ]
    },
    {
     "name": "stderr",
     "output_type": "stream",
     "text": [
      "\r",
      "  1%|▍                                                                            | 65/10106 [01:36<3:59:30,  1.43s/it]"
     ]
    },
    {
     "name": "stdout",
     "output_type": "stream",
     "text": [
      "torch.Size([8])\n",
      "tensor(3., device='cuda:0', dtype=torch.float64)\n",
      "tensor(0., device='cuda:0', dtype=torch.float64)\n",
      "Epoch 1, 0% \t train_loss_65_batch: 1.8079 \t took: 1.4304s\n"
     ]
    },
    {
     "name": "stderr",
     "output_type": "stream",
     "text": [
      "\r",
      "  1%|▌                                                                            | 66/10106 [01:38<3:54:05,  1.40s/it]"
     ]
    },
    {
     "name": "stdout",
     "output_type": "stream",
     "text": [
      "torch.Size([8])\n",
      "tensor(3., device='cuda:0', dtype=torch.float64)\n",
      "tensor(1., device='cuda:0', dtype=torch.float64)\n",
      "Epoch 1, 0% \t train_loss_66_batch: 1.3378 \t took: 1.3237s\n"
     ]
    },
    {
     "name": "stderr",
     "output_type": "stream",
     "text": [
      "\r",
      "  1%|▌                                                                            | 67/10106 [01:39<3:56:26,  1.41s/it]"
     ]
    },
    {
     "name": "stdout",
     "output_type": "stream",
     "text": [
      "torch.Size([8])\n",
      "tensor(3., device='cuda:0', dtype=torch.float64)\n",
      "tensor(0., device='cuda:0', dtype=torch.float64)\n",
      "Epoch 1, 0% \t train_loss_67_batch: 1.3842 \t took: 1.4464s\n"
     ]
    },
    {
     "name": "stderr",
     "output_type": "stream",
     "text": [
      "\r",
      "  1%|▌                                                                            | 68/10106 [01:40<3:53:13,  1.39s/it]"
     ]
    },
    {
     "name": "stdout",
     "output_type": "stream",
     "text": [
      "torch.Size([8])\n",
      "tensor(3., device='cuda:0', dtype=torch.float64)\n",
      "tensor(2., device='cuda:0', dtype=torch.float64)\n",
      "Epoch 1, 0% \t train_loss_68_batch: 1.2428 \t took: 1.3484s\n"
     ]
    },
    {
     "name": "stderr",
     "output_type": "stream",
     "text": [
      "\r",
      "  1%|▌                                                                            | 69/10106 [01:42<3:50:55,  1.38s/it]"
     ]
    },
    {
     "name": "stdout",
     "output_type": "stream",
     "text": [
      "torch.Size([8])\n",
      "tensor(3., device='cuda:0', dtype=torch.float64)\n",
      "tensor(0., device='cuda:0', dtype=torch.float64)\n",
      "Epoch 1, 0% \t train_loss_69_batch: 1.6883 \t took: 1.3486s\n"
     ]
    },
    {
     "name": "stderr",
     "output_type": "stream",
     "text": [
      "\r",
      "  1%|▌                                                                            | 70/10106 [01:43<3:46:38,  1.35s/it]"
     ]
    },
    {
     "name": "stdout",
     "output_type": "stream",
     "text": [
      "torch.Size([8])\n",
      "tensor(3., device='cuda:0', dtype=torch.float64)\n",
      "tensor(0., device='cuda:0', dtype=torch.float64)\n",
      "Epoch 1, 0% \t train_loss_70_batch: 1.2685 \t took: 1.2955s\n"
     ]
    },
    {
     "name": "stderr",
     "output_type": "stream",
     "text": [
      "\r",
      "  1%|▌                                                                            | 71/10106 [01:44<3:46:01,  1.35s/it]"
     ]
    },
    {
     "name": "stdout",
     "output_type": "stream",
     "text": [
      "torch.Size([8])\n",
      "tensor(3., device='cuda:0', dtype=torch.float64)\n",
      "tensor(0., device='cuda:0', dtype=torch.float64)\n",
      "Epoch 1, 0% \t train_loss_71_batch: 1.6787 \t took: 1.3421s\n"
     ]
    },
    {
     "name": "stderr",
     "output_type": "stream",
     "text": [
      "\r",
      "  1%|▌                                                                            | 72/10106 [01:46<3:49:43,  1.37s/it]"
     ]
    },
    {
     "name": "stdout",
     "output_type": "stream",
     "text": [
      "torch.Size([8])\n",
      "tensor(3., device='cuda:0', dtype=torch.float64)\n",
      "tensor(0., device='cuda:0', dtype=torch.float64)\n",
      "Epoch 1, 0% \t train_loss_72_batch: 0.8652 \t took: 1.4248s\n"
     ]
    },
    {
     "name": "stderr",
     "output_type": "stream",
     "text": [
      "\r",
      "  1%|▌                                                                            | 73/10106 [01:47<3:53:57,  1.40s/it]"
     ]
    },
    {
     "name": "stdout",
     "output_type": "stream",
     "text": [
      "torch.Size([8])\n",
      "tensor(3., device='cuda:0', dtype=torch.float64)\n",
      "tensor(0., device='cuda:0', dtype=torch.float64)\n",
      "Epoch 1, 0% \t train_loss_73_batch: 1.4634 \t took: 1.4583s\n"
     ]
    },
    {
     "name": "stderr",
     "output_type": "stream",
     "text": [
      "\r",
      "  1%|▌                                                                            | 74/10106 [01:49<3:50:38,  1.38s/it]"
     ]
    },
    {
     "name": "stdout",
     "output_type": "stream",
     "text": [
      "torch.Size([8])\n",
      "tensor(3., device='cuda:0', dtype=torch.float64)\n",
      "tensor(0., device='cuda:0', dtype=torch.float64)\n",
      "Epoch 1, 0% \t train_loss_74_batch: 0.9159 \t took: 1.3326s\n"
     ]
    },
    {
     "name": "stderr",
     "output_type": "stream",
     "text": [
      "\r",
      "  1%|▌                                                                            | 75/10106 [01:50<3:52:00,  1.39s/it]"
     ]
    },
    {
     "name": "stdout",
     "output_type": "stream",
     "text": [
      "torch.Size([8])\n",
      "tensor(3., device='cuda:0', dtype=torch.float64)\n",
      "tensor(0., device='cuda:0', dtype=torch.float64)\n",
      "Epoch 1, 0% \t train_loss_75_batch: 1.0518 \t took: 1.4071s\n"
     ]
    },
    {
     "name": "stderr",
     "output_type": "stream",
     "text": [
      "\r",
      "  1%|▌                                                                            | 76/10106 [01:51<3:51:59,  1.39s/it]"
     ]
    },
    {
     "name": "stdout",
     "output_type": "stream",
     "text": [
      "torch.Size([8])\n",
      "tensor(3., device='cuda:0', dtype=torch.float64)\n",
      "tensor(0., device='cuda:0', dtype=torch.float64)\n",
      "Epoch 1, 0% \t train_loss_76_batch: 1.1321 \t took: 1.3879s\n"
     ]
    },
    {
     "name": "stderr",
     "output_type": "stream",
     "text": [
      "\r",
      "  1%|▌                                                                            | 77/10106 [01:53<3:58:38,  1.43s/it]"
     ]
    },
    {
     "name": "stdout",
     "output_type": "stream",
     "text": [
      "torch.Size([8])\n",
      "tensor(3., device='cuda:0', dtype=torch.float64)\n",
      "tensor(1., device='cuda:0', dtype=torch.float64)\n",
      "Epoch 1, 0% \t train_loss_77_batch: 1.3991 \t took: 1.5200s\n"
     ]
    },
    {
     "name": "stderr",
     "output_type": "stream",
     "text": [
      "\r",
      "  1%|▌                                                                            | 78/10106 [01:54<4:01:07,  1.44s/it]"
     ]
    },
    {
     "name": "stdout",
     "output_type": "stream",
     "text": [
      "torch.Size([8])\n",
      "tensor(3., device='cuda:0', dtype=torch.float64)\n",
      "tensor(0., device='cuda:0', dtype=torch.float64)\n",
      "Epoch 1, 0% \t train_loss_78_batch: 1.0916 \t took: 1.4775s\n"
     ]
    },
    {
     "name": "stderr",
     "output_type": "stream",
     "text": [
      "\r",
      "  1%|▌                                                                            | 79/10106 [01:56<3:55:23,  1.41s/it]"
     ]
    },
    {
     "name": "stdout",
     "output_type": "stream",
     "text": [
      "torch.Size([8])\n",
      "tensor(3., device='cuda:0', dtype=torch.float64)\n",
      "tensor(1., device='cuda:0', dtype=torch.float64)\n",
      "Epoch 1, 0% \t train_loss_79_batch: 1.2756 \t took: 1.3290s\n"
     ]
    },
    {
     "name": "stderr",
     "output_type": "stream",
     "text": [
      "\r",
      "  1%|▌                                                                            | 80/10106 [01:57<3:53:21,  1.40s/it]"
     ]
    },
    {
     "name": "stdout",
     "output_type": "stream",
     "text": [
      "torch.Size([8])\n",
      "tensor(3., device='cuda:0', dtype=torch.float64)\n",
      "tensor(0., device='cuda:0', dtype=torch.float64)\n",
      "Epoch 1, 0% \t train_loss_80_batch: 1.3296 \t took: 1.3675s\n"
     ]
    },
    {
     "name": "stderr",
     "output_type": "stream",
     "text": [
      "\r",
      "  1%|▌                                                                            | 81/10106 [01:58<3:51:13,  1.38s/it]"
     ]
    },
    {
     "name": "stdout",
     "output_type": "stream",
     "text": [
      "torch.Size([8])\n",
      "tensor(3., device='cuda:0', dtype=torch.float64)\n",
      "tensor(1., device='cuda:0', dtype=torch.float64)\n",
      "Epoch 1, 0% \t train_loss_81_batch: 1.5233 \t took: 1.3542s\n"
     ]
    },
    {
     "name": "stderr",
     "output_type": "stream",
     "text": [
      "\r",
      "  1%|▌                                                                            | 82/10106 [02:00<3:49:27,  1.37s/it]"
     ]
    },
    {
     "name": "stdout",
     "output_type": "stream",
     "text": [
      "torch.Size([8])\n",
      "tensor(3., device='cuda:0', dtype=torch.float64)\n",
      "tensor(0., device='cuda:0', dtype=torch.float64)\n",
      "Epoch 1, 0% \t train_loss_82_batch: 1.0300 \t took: 1.3483s\n"
     ]
    },
    {
     "name": "stderr",
     "output_type": "stream",
     "text": [
      "\r",
      "  1%|▋                                                                            | 83/10106 [02:01<3:48:06,  1.37s/it]"
     ]
    },
    {
     "name": "stdout",
     "output_type": "stream",
     "text": [
      "torch.Size([8])\n",
      "tensor(3., device='cuda:0', dtype=torch.float64)\n",
      "tensor(0., device='cuda:0', dtype=torch.float64)\n",
      "Epoch 1, 0% \t train_loss_83_batch: 1.0895 \t took: 1.3471s\n"
     ]
    },
    {
     "name": "stderr",
     "output_type": "stream",
     "text": [
      "\r",
      "  1%|▋                                                                            | 84/10106 [02:02<3:47:33,  1.36s/it]"
     ]
    },
    {
     "name": "stdout",
     "output_type": "stream",
     "text": [
      "torch.Size([8])\n",
      "tensor(3., device='cuda:0', dtype=torch.float64)\n",
      "tensor(0., device='cuda:0', dtype=torch.float64)\n",
      "Epoch 1, 0% \t train_loss_84_batch: 1.1631 \t took: 1.3550s\n"
     ]
    },
    {
     "name": "stderr",
     "output_type": "stream",
     "text": [
      "\r",
      "  1%|▋                                                                            | 85/10106 [02:04<3:48:18,  1.37s/it]"
     ]
    },
    {
     "name": "stdout",
     "output_type": "stream",
     "text": [
      "torch.Size([8])\n",
      "tensor(3., device='cuda:0', dtype=torch.float64)\n",
      "tensor(1., device='cuda:0', dtype=torch.float64)\n",
      "Epoch 1, 0% \t train_loss_85_batch: 0.7261 \t took: 1.3778s\n"
     ]
    },
    {
     "name": "stderr",
     "output_type": "stream",
     "text": [
      "\r",
      "  1%|▋                                                                            | 86/10106 [02:05<3:49:52,  1.38s/it]"
     ]
    },
    {
     "name": "stdout",
     "output_type": "stream",
     "text": [
      "torch.Size([8])\n",
      "tensor(3., device='cuda:0', dtype=torch.float64)\n",
      "tensor(0., device='cuda:0', dtype=torch.float64)\n",
      "Epoch 1, 0% \t train_loss_86_batch: 1.9547 \t took: 1.3987s\n"
     ]
    },
    {
     "name": "stderr",
     "output_type": "stream",
     "text": [
      "\r",
      "  1%|▋                                                                            | 87/10106 [02:07<3:52:09,  1.39s/it]"
     ]
    },
    {
     "name": "stdout",
     "output_type": "stream",
     "text": [
      "torch.Size([8])\n",
      "tensor(3., device='cuda:0', dtype=torch.float64)\n",
      "tensor(1., device='cuda:0', dtype=torch.float64)\n",
      "Epoch 1, 0% \t train_loss_87_batch: 1.3785 \t took: 1.4215s\n"
     ]
    },
    {
     "name": "stderr",
     "output_type": "stream",
     "text": [
      "\r",
      "  1%|▋                                                                            | 88/10106 [02:08<3:51:29,  1.39s/it]"
     ]
    },
    {
     "name": "stdout",
     "output_type": "stream",
     "text": [
      "torch.Size([8])\n",
      "tensor(3., device='cuda:0', dtype=torch.float64)\n",
      "tensor(0., device='cuda:0', dtype=torch.float64)\n",
      "Epoch 1, 0% \t train_loss_88_batch: 1.6035 \t took: 1.3775s\n"
     ]
    },
    {
     "name": "stderr",
     "output_type": "stream",
     "text": [
      "\r",
      "  1%|▋                                                                            | 89/10106 [02:09<3:49:49,  1.38s/it]"
     ]
    },
    {
     "name": "stdout",
     "output_type": "stream",
     "text": [
      "torch.Size([8])\n",
      "tensor(3., device='cuda:0', dtype=torch.float64)\n",
      "tensor(1., device='cuda:0', dtype=torch.float64)\n",
      "Epoch 1, 0% \t train_loss_89_batch: 1.6574 \t took: 1.3537s\n"
     ]
    },
    {
     "name": "stderr",
     "output_type": "stream",
     "text": [
      "\r",
      "  1%|▋                                                                            | 90/10106 [02:11<3:46:28,  1.36s/it]"
     ]
    },
    {
     "name": "stdout",
     "output_type": "stream",
     "text": [
      "torch.Size([8])\n",
      "tensor(3., device='cuda:0', dtype=torch.float64)\n",
      "tensor(0., device='cuda:0', dtype=torch.float64)\n",
      "Epoch 1, 0% \t train_loss_90_batch: 1.5798 \t took: 1.3100s\n"
     ]
    },
    {
     "name": "stderr",
     "output_type": "stream",
     "text": [
      "\r",
      "  1%|▋                                                                            | 91/10106 [02:12<3:49:17,  1.37s/it]"
     ]
    },
    {
     "name": "stdout",
     "output_type": "stream",
     "text": [
      "torch.Size([8])\n",
      "tensor(3., device='cuda:0', dtype=torch.float64)\n",
      "tensor(1., device='cuda:0', dtype=torch.float64)\n",
      "Epoch 1, 0% \t train_loss_91_batch: 1.6454 \t took: 1.4135s\n"
     ]
    },
    {
     "name": "stderr",
     "output_type": "stream",
     "text": [
      "\r",
      "  1%|▋                                                                            | 92/10106 [02:14<3:51:49,  1.39s/it]"
     ]
    },
    {
     "name": "stdout",
     "output_type": "stream",
     "text": [
      "torch.Size([8])\n",
      "tensor(3., device='cuda:0', dtype=torch.float64)\n",
      "tensor(2., device='cuda:0', dtype=torch.float64)\n",
      "Epoch 1, 0% \t train_loss_92_batch: 1.0409 \t took: 1.4241s\n"
     ]
    },
    {
     "name": "stderr",
     "output_type": "stream",
     "text": [
      "  1%|▋                                                                            | 92/10106 [02:14<4:04:20,  1.46s/it]\n"
     ]
    },
    {
     "ename": "KeyboardInterrupt",
     "evalue": "",
     "output_type": "error",
     "traceback": [
      "\u001b[1;31m---------------------------------------------------------------------------\u001b[0m",
      "\u001b[1;31mKeyboardInterrupt\u001b[0m                         Traceback (most recent call last)",
      "\u001b[1;32m<ipython-input-19-4232e345763b>\u001b[0m in \u001b[0;36m<module>\u001b[1;34m()\u001b[0m\n\u001b[1;32m----> 1\u001b[1;33m \u001b[0mtrainNet\u001b[0m\u001b[1;33m(\u001b[0m\u001b[0mmodel\u001b[0m\u001b[1;33m,\u001b[0m \u001b[1;36m8\u001b[0m\u001b[1;33m,\u001b[0m \u001b[1;36m5\u001b[0m\u001b[1;33m,\u001b[0m \u001b[1;36m0.0001\u001b[0m\u001b[1;33m)\u001b[0m\u001b[1;33m\u001b[0m\u001b[0m\n\u001b[0m",
      "\u001b[1;32m<ipython-input-18-dae2b497252b>\u001b[0m in \u001b[0;36mtrainNet\u001b[1;34m(model, batch_size, n_epochs, learning_rate)\u001b[0m\n\u001b[0;32m     35\u001b[0m         \u001b[0mtotal_train_loss\u001b[0m \u001b[1;33m=\u001b[0m \u001b[1;36m0\u001b[0m\u001b[1;33m\u001b[0m\u001b[0m\n\u001b[0;32m     36\u001b[0m \u001b[1;33m\u001b[0m\u001b[0m\n\u001b[1;32m---> 37\u001b[1;33m         \u001b[1;32mfor\u001b[0m \u001b[0mi_batch\u001b[0m\u001b[1;33m,\u001b[0m \u001b[0msample_batched\u001b[0m \u001b[1;32min\u001b[0m \u001b[0menumerate\u001b[0m\u001b[1;33m(\u001b[0m\u001b[0mtqdm\u001b[0m\u001b[1;33m(\u001b[0m\u001b[0mdata_loader\u001b[0m\u001b[1;33m)\u001b[0m\u001b[1;33m)\u001b[0m\u001b[1;33m:\u001b[0m\u001b[1;33m\u001b[0m\u001b[0m\n\u001b[0m\u001b[0;32m     38\u001b[0m \u001b[1;33m\u001b[0m\u001b[0m\n\u001b[0;32m     39\u001b[0m \u001b[1;31m#             labels_relevance = labels[:, 0]\u001b[0m\u001b[1;33m\u001b[0m\u001b[1;33m\u001b[0m\u001b[0m\n",
      "\u001b[1;32mF:\\Anaconda\\lib\\site-packages\\tqdm\\std.py\u001b[0m in \u001b[0;36m__iter__\u001b[1;34m(self)\u001b[0m\n\u001b[0;32m   1193\u001b[0m \u001b[1;33m\u001b[0m\u001b[0m\n\u001b[0;32m   1194\u001b[0m         \u001b[1;32mtry\u001b[0m\u001b[1;33m:\u001b[0m\u001b[1;33m\u001b[0m\u001b[0m\n\u001b[1;32m-> 1195\u001b[1;33m             \u001b[1;32mfor\u001b[0m \u001b[0mobj\u001b[0m \u001b[1;32min\u001b[0m \u001b[0miterable\u001b[0m\u001b[1;33m:\u001b[0m\u001b[1;33m\u001b[0m\u001b[0m\n\u001b[0m\u001b[0;32m   1196\u001b[0m                 \u001b[1;32myield\u001b[0m \u001b[0mobj\u001b[0m\u001b[1;33m\u001b[0m\u001b[0m\n\u001b[0;32m   1197\u001b[0m                 \u001b[1;31m# Update and possibly print the progressbar.\u001b[0m\u001b[1;33m\u001b[0m\u001b[1;33m\u001b[0m\u001b[0m\n",
      "\u001b[1;32mF:\\Anaconda\\lib\\site-packages\\torch\\utils\\data\\dataloader.py\u001b[0m in \u001b[0;36m__next__\u001b[1;34m(self)\u001b[0m\n\u001b[0;32m    433\u001b[0m         \u001b[1;32mif\u001b[0m \u001b[0mself\u001b[0m\u001b[1;33m.\u001b[0m\u001b[0m_sampler_iter\u001b[0m \u001b[1;32mis\u001b[0m \u001b[1;32mNone\u001b[0m\u001b[1;33m:\u001b[0m\u001b[1;33m\u001b[0m\u001b[0m\n\u001b[0;32m    434\u001b[0m             \u001b[0mself\u001b[0m\u001b[1;33m.\u001b[0m\u001b[0m_reset\u001b[0m\u001b[1;33m(\u001b[0m\u001b[1;33m)\u001b[0m\u001b[1;33m\u001b[0m\u001b[0m\n\u001b[1;32m--> 435\u001b[1;33m         \u001b[0mdata\u001b[0m \u001b[1;33m=\u001b[0m \u001b[0mself\u001b[0m\u001b[1;33m.\u001b[0m\u001b[0m_next_data\u001b[0m\u001b[1;33m(\u001b[0m\u001b[1;33m)\u001b[0m\u001b[1;33m\u001b[0m\u001b[0m\n\u001b[0m\u001b[0;32m    436\u001b[0m         \u001b[0mself\u001b[0m\u001b[1;33m.\u001b[0m\u001b[0m_num_yielded\u001b[0m \u001b[1;33m+=\u001b[0m \u001b[1;36m1\u001b[0m\u001b[1;33m\u001b[0m\u001b[0m\n\u001b[0;32m    437\u001b[0m         \u001b[1;32mif\u001b[0m \u001b[0mself\u001b[0m\u001b[1;33m.\u001b[0m\u001b[0m_dataset_kind\u001b[0m \u001b[1;33m==\u001b[0m \u001b[0m_DatasetKind\u001b[0m\u001b[1;33m.\u001b[0m\u001b[0mIterable\u001b[0m \u001b[1;32mand\u001b[0m\u001b[0;31m \u001b[0m\u001b[0;31m\\\u001b[0m\u001b[1;33m\u001b[0m\u001b[0m\n",
      "\u001b[1;32mF:\\Anaconda\\lib\\site-packages\\torch\\utils\\data\\dataloader.py\u001b[0m in \u001b[0;36m_next_data\u001b[1;34m(self)\u001b[0m\n\u001b[0;32m    473\u001b[0m     \u001b[1;32mdef\u001b[0m \u001b[0m_next_data\u001b[0m\u001b[1;33m(\u001b[0m\u001b[0mself\u001b[0m\u001b[1;33m)\u001b[0m\u001b[1;33m:\u001b[0m\u001b[1;33m\u001b[0m\u001b[0m\n\u001b[0;32m    474\u001b[0m         \u001b[0mindex\u001b[0m \u001b[1;33m=\u001b[0m \u001b[0mself\u001b[0m\u001b[1;33m.\u001b[0m\u001b[0m_next_index\u001b[0m\u001b[1;33m(\u001b[0m\u001b[1;33m)\u001b[0m  \u001b[1;31m# may raise StopIteration\u001b[0m\u001b[1;33m\u001b[0m\u001b[0m\n\u001b[1;32m--> 475\u001b[1;33m         \u001b[0mdata\u001b[0m \u001b[1;33m=\u001b[0m \u001b[0mself\u001b[0m\u001b[1;33m.\u001b[0m\u001b[0m_dataset_fetcher\u001b[0m\u001b[1;33m.\u001b[0m\u001b[0mfetch\u001b[0m\u001b[1;33m(\u001b[0m\u001b[0mindex\u001b[0m\u001b[1;33m)\u001b[0m  \u001b[1;31m# may raise StopIteration\u001b[0m\u001b[1;33m\u001b[0m\u001b[0m\n\u001b[0m\u001b[0;32m    476\u001b[0m         \u001b[1;32mif\u001b[0m \u001b[0mself\u001b[0m\u001b[1;33m.\u001b[0m\u001b[0m_pin_memory\u001b[0m\u001b[1;33m:\u001b[0m\u001b[1;33m\u001b[0m\u001b[0m\n\u001b[0;32m    477\u001b[0m             \u001b[0mdata\u001b[0m \u001b[1;33m=\u001b[0m \u001b[0m_utils\u001b[0m\u001b[1;33m.\u001b[0m\u001b[0mpin_memory\u001b[0m\u001b[1;33m.\u001b[0m\u001b[0mpin_memory\u001b[0m\u001b[1;33m(\u001b[0m\u001b[0mdata\u001b[0m\u001b[1;33m)\u001b[0m\u001b[1;33m\u001b[0m\u001b[0m\n",
      "\u001b[1;32mF:\\Anaconda\\lib\\site-packages\\torch\\utils\\data\\_utils\\fetch.py\u001b[0m in \u001b[0;36mfetch\u001b[1;34m(self, possibly_batched_index)\u001b[0m\n\u001b[0;32m     42\u001b[0m     \u001b[1;32mdef\u001b[0m \u001b[0mfetch\u001b[0m\u001b[1;33m(\u001b[0m\u001b[0mself\u001b[0m\u001b[1;33m,\u001b[0m \u001b[0mpossibly_batched_index\u001b[0m\u001b[1;33m)\u001b[0m\u001b[1;33m:\u001b[0m\u001b[1;33m\u001b[0m\u001b[0m\n\u001b[0;32m     43\u001b[0m         \u001b[1;32mif\u001b[0m \u001b[0mself\u001b[0m\u001b[1;33m.\u001b[0m\u001b[0mauto_collation\u001b[0m\u001b[1;33m:\u001b[0m\u001b[1;33m\u001b[0m\u001b[0m\n\u001b[1;32m---> 44\u001b[1;33m             \u001b[0mdata\u001b[0m \u001b[1;33m=\u001b[0m \u001b[1;33m[\u001b[0m\u001b[0mself\u001b[0m\u001b[1;33m.\u001b[0m\u001b[0mdataset\u001b[0m\u001b[1;33m[\u001b[0m\u001b[0midx\u001b[0m\u001b[1;33m]\u001b[0m \u001b[1;32mfor\u001b[0m \u001b[0midx\u001b[0m \u001b[1;32min\u001b[0m \u001b[0mpossibly_batched_index\u001b[0m\u001b[1;33m]\u001b[0m\u001b[1;33m\u001b[0m\u001b[0m\n\u001b[0m\u001b[0;32m     45\u001b[0m         \u001b[1;32melse\u001b[0m\u001b[1;33m:\u001b[0m\u001b[1;33m\u001b[0m\u001b[0m\n\u001b[0;32m     46\u001b[0m             \u001b[0mdata\u001b[0m \u001b[1;33m=\u001b[0m \u001b[0mself\u001b[0m\u001b[1;33m.\u001b[0m\u001b[0mdataset\u001b[0m\u001b[1;33m[\u001b[0m\u001b[0mpossibly_batched_index\u001b[0m\u001b[1;33m]\u001b[0m\u001b[1;33m\u001b[0m\u001b[0m\n",
      "\u001b[1;32mF:\\Anaconda\\lib\\site-packages\\torch\\utils\\data\\_utils\\fetch.py\u001b[0m in \u001b[0;36m<listcomp>\u001b[1;34m(.0)\u001b[0m\n\u001b[0;32m     42\u001b[0m     \u001b[1;32mdef\u001b[0m \u001b[0mfetch\u001b[0m\u001b[1;33m(\u001b[0m\u001b[0mself\u001b[0m\u001b[1;33m,\u001b[0m \u001b[0mpossibly_batched_index\u001b[0m\u001b[1;33m)\u001b[0m\u001b[1;33m:\u001b[0m\u001b[1;33m\u001b[0m\u001b[0m\n\u001b[0;32m     43\u001b[0m         \u001b[1;32mif\u001b[0m \u001b[0mself\u001b[0m\u001b[1;33m.\u001b[0m\u001b[0mauto_collation\u001b[0m\u001b[1;33m:\u001b[0m\u001b[1;33m\u001b[0m\u001b[0m\n\u001b[1;32m---> 44\u001b[1;33m             \u001b[0mdata\u001b[0m \u001b[1;33m=\u001b[0m \u001b[1;33m[\u001b[0m\u001b[0mself\u001b[0m\u001b[1;33m.\u001b[0m\u001b[0mdataset\u001b[0m\u001b[1;33m[\u001b[0m\u001b[0midx\u001b[0m\u001b[1;33m]\u001b[0m \u001b[1;32mfor\u001b[0m \u001b[0midx\u001b[0m \u001b[1;32min\u001b[0m \u001b[0mpossibly_batched_index\u001b[0m\u001b[1;33m]\u001b[0m\u001b[1;33m\u001b[0m\u001b[0m\n\u001b[0m\u001b[0;32m     45\u001b[0m         \u001b[1;32melse\u001b[0m\u001b[1;33m:\u001b[0m\u001b[1;33m\u001b[0m\u001b[0m\n\u001b[0;32m     46\u001b[0m             \u001b[0mdata\u001b[0m \u001b[1;33m=\u001b[0m \u001b[0mself\u001b[0m\u001b[1;33m.\u001b[0m\u001b[0mdataset\u001b[0m\u001b[1;33m[\u001b[0m\u001b[0mpossibly_batched_index\u001b[0m\u001b[1;33m]\u001b[0m\u001b[1;33m\u001b[0m\u001b[0m\n",
      "\u001b[1;32m<ipython-input-3-fbf2e2fac46b>\u001b[0m in \u001b[0;36m__getitem__\u001b[1;34m(self, idx)\u001b[0m\n\u001b[0;32m     30\u001b[0m         \u001b[0mimg_name\u001b[0m\u001b[1;33m=\u001b[0m\u001b[0mimg_name\u001b[0m\u001b[1;33m.\u001b[0m\u001b[0mreplace\u001b[0m\u001b[1;33m(\u001b[0m\u001b[1;34m'\\\\'\u001b[0m\u001b[1;33m,\u001b[0m \u001b[1;34m'/'\u001b[0m\u001b[1;33m)\u001b[0m\u001b[1;33m\u001b[0m\u001b[0m\n\u001b[0;32m     31\u001b[0m         \u001b[0mimg_name\u001b[0m\u001b[1;33m=\u001b[0m\u001b[0mparse\u001b[0m\u001b[1;33m.\u001b[0m\u001b[0mquote\u001b[0m\u001b[1;33m(\u001b[0m\u001b[0mimg_name\u001b[0m\u001b[1;33m,\u001b[0m\u001b[1;34m':?=/'\u001b[0m\u001b[1;33m)\u001b[0m\u001b[1;33m\u001b[0m\u001b[0m\n\u001b[1;32m---> 32\u001b[1;33m         \u001b[0mimage\u001b[0m \u001b[1;33m=\u001b[0m \u001b[0mio\u001b[0m\u001b[1;33m.\u001b[0m\u001b[0mimread\u001b[0m\u001b[1;33m(\u001b[0m\u001b[0mimg_name\u001b[0m\u001b[1;33m)\u001b[0m\u001b[1;33m\u001b[0m\u001b[0m\n\u001b[0m\u001b[0;32m     33\u001b[0m         \u001b[0mquery\u001b[0m \u001b[1;33m=\u001b[0m \u001b[0mself\u001b[0m\u001b[1;33m.\u001b[0m\u001b[0mquery_frame_train\u001b[0m\u001b[1;33m.\u001b[0m\u001b[0miloc\u001b[0m\u001b[1;33m[\u001b[0m\u001b[0midx\u001b[0m\u001b[1;33m,\u001b[0m \u001b[1;36m0\u001b[0m\u001b[1;33m]\u001b[0m\u001b[1;33m\u001b[0m\u001b[0m\n\u001b[0;32m     34\u001b[0m         \u001b[0mscore_annotations\u001b[0m \u001b[1;33m=\u001b[0m \u001b[0mself\u001b[0m\u001b[1;33m.\u001b[0m\u001b[0mquery_frame_train\u001b[0m\u001b[1;33m.\u001b[0m\u001b[0miloc\u001b[0m\u001b[1;33m[\u001b[0m\u001b[0midx\u001b[0m\u001b[1;33m,\u001b[0m \u001b[1;36m3\u001b[0m\u001b[1;33m:\u001b[0m\u001b[1;33m]\u001b[0m\u001b[1;33m\u001b[0m\u001b[0m\n",
      "\u001b[1;32mF:\\Anaconda\\lib\\site-packages\\skimage\\io\\_io.py\u001b[0m in \u001b[0;36mimread\u001b[1;34m(fname, as_grey, plugin, flatten, **plugin_args)\u001b[0m\n\u001b[0;32m     58\u001b[0m             \u001b[0mplugin\u001b[0m \u001b[1;33m=\u001b[0m \u001b[1;34m'tifffile'\u001b[0m\u001b[1;33m\u001b[0m\u001b[0m\n\u001b[0;32m     59\u001b[0m \u001b[1;33m\u001b[0m\u001b[0m\n\u001b[1;32m---> 60\u001b[1;33m     \u001b[1;32mwith\u001b[0m \u001b[0mfile_or_url_context\u001b[0m\u001b[1;33m(\u001b[0m\u001b[0mfname\u001b[0m\u001b[1;33m)\u001b[0m \u001b[1;32mas\u001b[0m \u001b[0mfname\u001b[0m\u001b[1;33m:\u001b[0m\u001b[1;33m\u001b[0m\u001b[0m\n\u001b[0m\u001b[0;32m     61\u001b[0m         \u001b[0mimg\u001b[0m \u001b[1;33m=\u001b[0m \u001b[0mcall_plugin\u001b[0m\u001b[1;33m(\u001b[0m\u001b[1;34m'imread'\u001b[0m\u001b[1;33m,\u001b[0m \u001b[0mfname\u001b[0m\u001b[1;33m,\u001b[0m \u001b[0mplugin\u001b[0m\u001b[1;33m=\u001b[0m\u001b[0mplugin\u001b[0m\u001b[1;33m,\u001b[0m \u001b[1;33m**\u001b[0m\u001b[0mplugin_args\u001b[0m\u001b[1;33m)\u001b[0m\u001b[1;33m\u001b[0m\u001b[0m\n\u001b[0;32m     62\u001b[0m \u001b[1;33m\u001b[0m\u001b[0m\n",
      "\u001b[1;32mF:\\Anaconda\\lib\\contextlib.py\u001b[0m in \u001b[0;36m__enter__\u001b[1;34m(self)\u001b[0m\n\u001b[0;32m     79\u001b[0m     \u001b[1;32mdef\u001b[0m \u001b[0m__enter__\u001b[0m\u001b[1;33m(\u001b[0m\u001b[0mself\u001b[0m\u001b[1;33m)\u001b[0m\u001b[1;33m:\u001b[0m\u001b[1;33m\u001b[0m\u001b[0m\n\u001b[0;32m     80\u001b[0m         \u001b[1;32mtry\u001b[0m\u001b[1;33m:\u001b[0m\u001b[1;33m\u001b[0m\u001b[0m\n\u001b[1;32m---> 81\u001b[1;33m             \u001b[1;32mreturn\u001b[0m \u001b[0mnext\u001b[0m\u001b[1;33m(\u001b[0m\u001b[0mself\u001b[0m\u001b[1;33m.\u001b[0m\u001b[0mgen\u001b[0m\u001b[1;33m)\u001b[0m\u001b[1;33m\u001b[0m\u001b[0m\n\u001b[0m\u001b[0;32m     82\u001b[0m         \u001b[1;32mexcept\u001b[0m \u001b[0mStopIteration\u001b[0m\u001b[1;33m:\u001b[0m\u001b[1;33m\u001b[0m\u001b[0m\n\u001b[0;32m     83\u001b[0m             \u001b[1;32mraise\u001b[0m \u001b[0mRuntimeError\u001b[0m\u001b[1;33m(\u001b[0m\u001b[1;34m\"generator didn't yield\"\u001b[0m\u001b[1;33m)\u001b[0m \u001b[1;32mfrom\u001b[0m \u001b[1;32mNone\u001b[0m\u001b[1;33m\u001b[0m\u001b[0m\n",
      "\u001b[1;32mF:\\Anaconda\\lib\\site-packages\\skimage\\io\\util.py\u001b[0m in \u001b[0;36mfile_or_url_context\u001b[1;34m(resource_name)\u001b[0m\n\u001b[0;32m     28\u001b[0m             \u001b[1;32mwith\u001b[0m \u001b[0mtempfile\u001b[0m\u001b[1;33m.\u001b[0m\u001b[0mNamedTemporaryFile\u001b[0m\u001b[1;33m(\u001b[0m\u001b[0mdelete\u001b[0m\u001b[1;33m=\u001b[0m\u001b[1;32mFalse\u001b[0m\u001b[1;33m,\u001b[0m \u001b[0msuffix\u001b[0m\u001b[1;33m=\u001b[0m\u001b[0mext\u001b[0m\u001b[1;33m)\u001b[0m \u001b[1;32mas\u001b[0m \u001b[0mf\u001b[0m\u001b[1;33m:\u001b[0m\u001b[1;33m\u001b[0m\u001b[0m\n\u001b[0;32m     29\u001b[0m                 \u001b[0mu\u001b[0m \u001b[1;33m=\u001b[0m \u001b[0murlopen\u001b[0m\u001b[1;33m(\u001b[0m\u001b[0mresource_name\u001b[0m\u001b[1;33m)\u001b[0m\u001b[1;33m\u001b[0m\u001b[0m\n\u001b[1;32m---> 30\u001b[1;33m                 \u001b[0mf\u001b[0m\u001b[1;33m.\u001b[0m\u001b[0mwrite\u001b[0m\u001b[1;33m(\u001b[0m\u001b[0mu\u001b[0m\u001b[1;33m.\u001b[0m\u001b[0mread\u001b[0m\u001b[1;33m(\u001b[0m\u001b[1;33m)\u001b[0m\u001b[1;33m)\u001b[0m\u001b[1;33m\u001b[0m\u001b[0m\n\u001b[0m\u001b[0;32m     31\u001b[0m             \u001b[1;31m# f must be closed before yielding\u001b[0m\u001b[1;33m\u001b[0m\u001b[1;33m\u001b[0m\u001b[0m\n\u001b[0;32m     32\u001b[0m             \u001b[1;32myield\u001b[0m \u001b[0mf\u001b[0m\u001b[1;33m.\u001b[0m\u001b[0mname\u001b[0m\u001b[1;33m\u001b[0m\u001b[0m\n",
      "\u001b[1;32mF:\\Anaconda\\lib\\http\\client.py\u001b[0m in \u001b[0;36mread\u001b[1;34m(self, amt)\u001b[0m\n\u001b[0;32m    460\u001b[0m             \u001b[1;32melse\u001b[0m\u001b[1;33m:\u001b[0m\u001b[1;33m\u001b[0m\u001b[0m\n\u001b[0;32m    461\u001b[0m                 \u001b[1;32mtry\u001b[0m\u001b[1;33m:\u001b[0m\u001b[1;33m\u001b[0m\u001b[0m\n\u001b[1;32m--> 462\u001b[1;33m                     \u001b[0ms\u001b[0m \u001b[1;33m=\u001b[0m \u001b[0mself\u001b[0m\u001b[1;33m.\u001b[0m\u001b[0m_safe_read\u001b[0m\u001b[1;33m(\u001b[0m\u001b[0mself\u001b[0m\u001b[1;33m.\u001b[0m\u001b[0mlength\u001b[0m\u001b[1;33m)\u001b[0m\u001b[1;33m\u001b[0m\u001b[0m\n\u001b[0m\u001b[0;32m    463\u001b[0m                 \u001b[1;32mexcept\u001b[0m \u001b[0mIncompleteRead\u001b[0m\u001b[1;33m:\u001b[0m\u001b[1;33m\u001b[0m\u001b[0m\n\u001b[0;32m    464\u001b[0m                     \u001b[0mself\u001b[0m\u001b[1;33m.\u001b[0m\u001b[0m_close_conn\u001b[0m\u001b[1;33m(\u001b[0m\u001b[1;33m)\u001b[0m\u001b[1;33m\u001b[0m\u001b[0m\n",
      "\u001b[1;32mF:\\Anaconda\\lib\\http\\client.py\u001b[0m in \u001b[0;36m_safe_read\u001b[1;34m(self, amt)\u001b[0m\n\u001b[0;32m    610\u001b[0m         \u001b[0ms\u001b[0m \u001b[1;33m=\u001b[0m \u001b[1;33m[\u001b[0m\u001b[1;33m]\u001b[0m\u001b[1;33m\u001b[0m\u001b[0m\n\u001b[0;32m    611\u001b[0m         \u001b[1;32mwhile\u001b[0m \u001b[0mamt\u001b[0m \u001b[1;33m>\u001b[0m \u001b[1;36m0\u001b[0m\u001b[1;33m:\u001b[0m\u001b[1;33m\u001b[0m\u001b[0m\n\u001b[1;32m--> 612\u001b[1;33m             \u001b[0mchunk\u001b[0m \u001b[1;33m=\u001b[0m \u001b[0mself\u001b[0m\u001b[1;33m.\u001b[0m\u001b[0mfp\u001b[0m\u001b[1;33m.\u001b[0m\u001b[0mread\u001b[0m\u001b[1;33m(\u001b[0m\u001b[0mmin\u001b[0m\u001b[1;33m(\u001b[0m\u001b[0mamt\u001b[0m\u001b[1;33m,\u001b[0m \u001b[0mMAXAMOUNT\u001b[0m\u001b[1;33m)\u001b[0m\u001b[1;33m)\u001b[0m\u001b[1;33m\u001b[0m\u001b[0m\n\u001b[0m\u001b[0;32m    613\u001b[0m             \u001b[1;32mif\u001b[0m \u001b[1;32mnot\u001b[0m \u001b[0mchunk\u001b[0m\u001b[1;33m:\u001b[0m\u001b[1;33m\u001b[0m\u001b[0m\n\u001b[0;32m    614\u001b[0m                 \u001b[1;32mraise\u001b[0m \u001b[0mIncompleteRead\u001b[0m\u001b[1;33m(\u001b[0m\u001b[1;34mb''\u001b[0m\u001b[1;33m.\u001b[0m\u001b[0mjoin\u001b[0m\u001b[1;33m(\u001b[0m\u001b[0ms\u001b[0m\u001b[1;33m)\u001b[0m\u001b[1;33m,\u001b[0m \u001b[0mamt\u001b[0m\u001b[1;33m)\u001b[0m\u001b[1;33m\u001b[0m\u001b[0m\n",
      "\u001b[1;32mF:\\Anaconda\\lib\\socket.py\u001b[0m in \u001b[0;36mreadinto\u001b[1;34m(self, b)\u001b[0m\n\u001b[0;32m    584\u001b[0m         \u001b[1;32mwhile\u001b[0m \u001b[1;32mTrue\u001b[0m\u001b[1;33m:\u001b[0m\u001b[1;33m\u001b[0m\u001b[0m\n\u001b[0;32m    585\u001b[0m             \u001b[1;32mtry\u001b[0m\u001b[1;33m:\u001b[0m\u001b[1;33m\u001b[0m\u001b[0m\n\u001b[1;32m--> 586\u001b[1;33m                 \u001b[1;32mreturn\u001b[0m \u001b[0mself\u001b[0m\u001b[1;33m.\u001b[0m\u001b[0m_sock\u001b[0m\u001b[1;33m.\u001b[0m\u001b[0mrecv_into\u001b[0m\u001b[1;33m(\u001b[0m\u001b[0mb\u001b[0m\u001b[1;33m)\u001b[0m\u001b[1;33m\u001b[0m\u001b[0m\n\u001b[0m\u001b[0;32m    587\u001b[0m             \u001b[1;32mexcept\u001b[0m \u001b[0mtimeout\u001b[0m\u001b[1;33m:\u001b[0m\u001b[1;33m\u001b[0m\u001b[0m\n\u001b[0;32m    588\u001b[0m                 \u001b[0mself\u001b[0m\u001b[1;33m.\u001b[0m\u001b[0m_timeout_occurred\u001b[0m \u001b[1;33m=\u001b[0m \u001b[1;32mTrue\u001b[0m\u001b[1;33m\u001b[0m\u001b[0m\n",
      "\u001b[1;32mF:\\Anaconda\\lib\\ssl.py\u001b[0m in \u001b[0;36mrecv_into\u001b[1;34m(self, buffer, nbytes, flags)\u001b[0m\n\u001b[0;32m   1007\u001b[0m                   \u001b[1;34m\"non-zero flags not allowed in calls to recv_into() on %s\"\u001b[0m \u001b[1;33m%\u001b[0m\u001b[1;33m\u001b[0m\u001b[0m\n\u001b[0;32m   1008\u001b[0m                   self.__class__)\n\u001b[1;32m-> 1009\u001b[1;33m             \u001b[1;32mreturn\u001b[0m \u001b[0mself\u001b[0m\u001b[1;33m.\u001b[0m\u001b[0mread\u001b[0m\u001b[1;33m(\u001b[0m\u001b[0mnbytes\u001b[0m\u001b[1;33m,\u001b[0m \u001b[0mbuffer\u001b[0m\u001b[1;33m)\u001b[0m\u001b[1;33m\u001b[0m\u001b[0m\n\u001b[0m\u001b[0;32m   1010\u001b[0m         \u001b[1;32melse\u001b[0m\u001b[1;33m:\u001b[0m\u001b[1;33m\u001b[0m\u001b[0m\n\u001b[0;32m   1011\u001b[0m             \u001b[1;32mreturn\u001b[0m \u001b[0msocket\u001b[0m\u001b[1;33m.\u001b[0m\u001b[0mrecv_into\u001b[0m\u001b[1;33m(\u001b[0m\u001b[0mself\u001b[0m\u001b[1;33m,\u001b[0m \u001b[0mbuffer\u001b[0m\u001b[1;33m,\u001b[0m \u001b[0mnbytes\u001b[0m\u001b[1;33m,\u001b[0m \u001b[0mflags\u001b[0m\u001b[1;33m)\u001b[0m\u001b[1;33m\u001b[0m\u001b[0m\n",
      "\u001b[1;32mF:\\Anaconda\\lib\\ssl.py\u001b[0m in \u001b[0;36mread\u001b[1;34m(self, len, buffer)\u001b[0m\n\u001b[0;32m    869\u001b[0m             \u001b[1;32mraise\u001b[0m \u001b[0mValueError\u001b[0m\u001b[1;33m(\u001b[0m\u001b[1;34m\"Read on closed or unwrapped SSL socket.\"\u001b[0m\u001b[1;33m)\u001b[0m\u001b[1;33m\u001b[0m\u001b[0m\n\u001b[0;32m    870\u001b[0m         \u001b[1;32mtry\u001b[0m\u001b[1;33m:\u001b[0m\u001b[1;33m\u001b[0m\u001b[0m\n\u001b[1;32m--> 871\u001b[1;33m             \u001b[1;32mreturn\u001b[0m \u001b[0mself\u001b[0m\u001b[1;33m.\u001b[0m\u001b[0m_sslobj\u001b[0m\u001b[1;33m.\u001b[0m\u001b[0mread\u001b[0m\u001b[1;33m(\u001b[0m\u001b[0mlen\u001b[0m\u001b[1;33m,\u001b[0m \u001b[0mbuffer\u001b[0m\u001b[1;33m)\u001b[0m\u001b[1;33m\u001b[0m\u001b[0m\n\u001b[0m\u001b[0;32m    872\u001b[0m         \u001b[1;32mexcept\u001b[0m \u001b[0mSSLError\u001b[0m \u001b[1;32mas\u001b[0m \u001b[0mx\u001b[0m\u001b[1;33m:\u001b[0m\u001b[1;33m\u001b[0m\u001b[0m\n\u001b[0;32m    873\u001b[0m             \u001b[1;32mif\u001b[0m \u001b[0mx\u001b[0m\u001b[1;33m.\u001b[0m\u001b[0margs\u001b[0m\u001b[1;33m[\u001b[0m\u001b[1;36m0\u001b[0m\u001b[1;33m]\u001b[0m \u001b[1;33m==\u001b[0m \u001b[0mSSL_ERROR_EOF\u001b[0m \u001b[1;32mand\u001b[0m \u001b[0mself\u001b[0m\u001b[1;33m.\u001b[0m\u001b[0msuppress_ragged_eofs\u001b[0m\u001b[1;33m:\u001b[0m\u001b[1;33m\u001b[0m\u001b[0m\n",
      "\u001b[1;32mF:\\Anaconda\\lib\\ssl.py\u001b[0m in \u001b[0;36mread\u001b[1;34m(self, len, buffer)\u001b[0m\n\u001b[0;32m    629\u001b[0m         \"\"\"\n\u001b[0;32m    630\u001b[0m         \u001b[1;32mif\u001b[0m \u001b[0mbuffer\u001b[0m \u001b[1;32mis\u001b[0m \u001b[1;32mnot\u001b[0m \u001b[1;32mNone\u001b[0m\u001b[1;33m:\u001b[0m\u001b[1;33m\u001b[0m\u001b[0m\n\u001b[1;32m--> 631\u001b[1;33m             \u001b[0mv\u001b[0m \u001b[1;33m=\u001b[0m \u001b[0mself\u001b[0m\u001b[1;33m.\u001b[0m\u001b[0m_sslobj\u001b[0m\u001b[1;33m.\u001b[0m\u001b[0mread\u001b[0m\u001b[1;33m(\u001b[0m\u001b[0mlen\u001b[0m\u001b[1;33m,\u001b[0m \u001b[0mbuffer\u001b[0m\u001b[1;33m)\u001b[0m\u001b[1;33m\u001b[0m\u001b[0m\n\u001b[0m\u001b[0;32m    632\u001b[0m         \u001b[1;32melse\u001b[0m\u001b[1;33m:\u001b[0m\u001b[1;33m\u001b[0m\u001b[0m\n\u001b[0;32m    633\u001b[0m             \u001b[0mv\u001b[0m \u001b[1;33m=\u001b[0m \u001b[0mself\u001b[0m\u001b[1;33m.\u001b[0m\u001b[0m_sslobj\u001b[0m\u001b[1;33m.\u001b[0m\u001b[0mread\u001b[0m\u001b[1;33m(\u001b[0m\u001b[0mlen\u001b[0m\u001b[1;33m)\u001b[0m\u001b[1;33m\u001b[0m\u001b[0m\n",
      "\u001b[1;31mKeyboardInterrupt\u001b[0m: "
     ]
    }
   ],
   "source": [
    "trainNet(model, 8, 5, 0.0001)"
   ]
  },
  {
   "cell_type": "code",
   "execution_count": null,
   "metadata": {},
   "outputs": [],
   "source": []
  }
 ],
 "metadata": {
  "kernelspec": {
   "display_name": "Python 3",
   "language": "python",
   "name": "python3"
  },
  "language_info": {
   "codemirror_mode": {
    "name": "ipython",
    "version": 3
   },
   "file_extension": ".py",
   "mimetype": "text/x-python",
   "name": "python",
   "nbconvert_exporter": "python",
   "pygments_lexer": "ipython3",
   "version": "3.6.5"
  }
 },
 "nbformat": 4,
 "nbformat_minor": 2
}
